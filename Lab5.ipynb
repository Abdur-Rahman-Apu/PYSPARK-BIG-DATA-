{
 "cells": [
  {
   "cell_type": "code",
   "execution_count": 1,
   "id": "6dc4291d",
   "metadata": {},
   "outputs": [],
   "source": [
    "import findspark\n",
    "findspark.init()\n",
    "import pyspark\n",
    "from pyspark.sql import SparkSession,SQLContext\n",
    "from pyspark.sql.functions import *\n",
    "from pyspark.sql.types import *\n",
    "from pyspark.sql.window import Window"
   ]
  },
  {
   "cell_type": "code",
   "execution_count": 2,
   "id": "12258c92",
   "metadata": {},
   "outputs": [],
   "source": [
    "spark=SparkSession.builder.appName('Region').getOrCreate()"
   ]
  },
  {
   "cell_type": "code",
   "execution_count": 3,
   "id": "43ace07a",
   "metadata": {},
   "outputs": [
    {
     "data": {
      "text/html": [
       "\n",
       "            <div>\n",
       "                <p><b>SparkSession - in-memory</b></p>\n",
       "                \n",
       "        <div>\n",
       "            <p><b>SparkContext</b></p>\n",
       "\n",
       "            <p><a href=\"http://DESKTOP-9P30N8Q:4041\">Spark UI</a></p>\n",
       "\n",
       "            <dl>\n",
       "              <dt>Version</dt>\n",
       "                <dd><code>v3.2.1</code></dd>\n",
       "              <dt>Master</dt>\n",
       "                <dd><code>local[*]</code></dd>\n",
       "              <dt>AppName</dt>\n",
       "                <dd><code>Region</code></dd>\n",
       "            </dl>\n",
       "        </div>\n",
       "        \n",
       "            </div>\n",
       "        "
      ],
      "text/plain": [
       "<pyspark.sql.session.SparkSession at 0x229161ba070>"
      ]
     },
     "execution_count": 3,
     "metadata": {},
     "output_type": "execute_result"
    }
   ],
   "source": [
    "spark"
   ]
  },
  {
   "cell_type": "code",
   "execution_count": 6,
   "id": "3473cfb8",
   "metadata": {},
   "outputs": [
    {
     "name": "stdout",
     "output_type": "stream",
     "text": [
      "+-----+--------+-------------+---------+----------+-----------------------+------------------+----------------+-------------+------------------------+-------------------+------------------+\n",
      "| code|province|         city| latitude| longitude|elementary_school_count|kindergarten_count|university_count|academy_ratio|elderly_population_ratio|elderly_alone_ratio|nursing_home_count|\n",
      "+-----+--------+-------------+---------+----------+-----------------------+------------------+----------------+-------------+------------------------+-------------------+------------------+\n",
      "|10000|   Seoul|        Seoul|37.566953|126.977977|                    607|               830|              48|         1.44|                   15.38|                5.8|             22739|\n",
      "|10010|   Seoul|   Gangnam-gu|37.518421|127.047222|                     33|                38|               0|         4.18|                   13.17|                4.3|              3088|\n",
      "|10020|   Seoul|  Gangdong-gu|37.530492|127.123837|                     27|                32|               0|         1.54|                   14.55|                5.4|              1023|\n",
      "|10030|   Seoul|   Gangbuk-gu|37.639938|127.025508|                     14|                21|               0|         0.67|                   19.49|                8.5|               628|\n",
      "|10040|   Seoul|   Gangseo-gu|37.551166|126.849506|                     36|                56|               1|         1.17|                   14.39|                5.7|              1080|\n",
      "|10050|   Seoul|    Gwanak-gu| 37.47829|126.951502|                     22|                33|               1|         0.89|                   15.12|                4.9|               909|\n",
      "|10060|   Seoul|  Gwangjin-gu|37.538712|127.082366|                     22|                33|               3|         1.16|                   13.75|                4.8|               723|\n",
      "|10070|   Seoul|      Guro-gu|37.495632| 126.88765|                     26|                34|               3|          1.0|                   16.21|                5.7|               741|\n",
      "|10080|   Seoul| Geumcheon-gu|37.456852|126.895229|                     18|                19|               0|         0.96|                   16.15|                6.7|               475|\n",
      "|10090|   Seoul|     Nowon-gu|37.654259|127.056294|                     42|                66|               6|         1.39|                    15.4|                7.4|               952|\n",
      "|10100|   Seoul|    Dobong-gu|37.668952|127.047082|                     23|                26|               1|         0.95|                   17.89|                7.2|               485|\n",
      "|10110|   Seoul|Dongdaemun-gu|37.574552|127.039721|                     21|                31|               4|         1.06|                   17.26|                6.7|               832|\n",
      "|10120|   Seoul|   Dongjak-gu|37.510571|126.963604|                     21|                34|               3|         1.17|                   15.85|                5.2|               762|\n",
      "|10130|   Seoul|      Mapo-gu|37.566283|126.901644|                     22|                24|               2|         1.83|                   14.05|                4.9|               929|\n",
      "|10140|   Seoul| Seodaemun-gu|37.579428|126.936771|                     19|                25|               6|         1.12|                   16.77|                6.2|               587|\n",
      "|10150|   Seoul|    Seocho-gu|37.483804|127.032693|                     24|                27|               1|          2.6|                   13.39|                3.8|              1465|\n",
      "|10160|   Seoul| Seongdong-gu|37.563277|127.036647|                     21|                30|               2|         0.97|                   14.76|                5.3|               593|\n",
      "|10170|   Seoul|  Seongbuk-gu|37.589562|  127.0167|                     29|                49|               6|         1.02|                   16.15|                6.0|               729|\n",
      "|10180|   Seoul|    Songpa-gu| 37.51462|127.106141|                     40|                51|               1|         1.65|                    13.1|                4.1|              1527|\n",
      "|10190|   Seoul| Yangcheon-gu|37.517189|126.866618|                     30|                43|               0|         2.26|                   13.55|                5.5|               816|\n",
      "+-----+--------+-------------+---------+----------+-----------------------+------------------+----------------+-------------+------------------------+-------------------+------------------+\n",
      "only showing top 20 rows\n",
      "\n"
     ]
    }
   ],
   "source": [
    "region=spark.read.load('./Region.csv',format='csv',inferSchema=True,header=True)\n",
    "region.show()"
   ]
  },
  {
   "cell_type": "code",
   "execution_count": 7,
   "id": "c3ba7346",
   "metadata": {},
   "outputs": [
    {
     "name": "stdout",
     "output_type": "stream",
     "text": [
      "+----------+----+-----------------+---------+--------+--------+\n",
      "|      date|time|         province|confirmed|released|deceased|\n",
      "+----------+----+-----------------+---------+--------+--------+\n",
      "|2020-01-20|  16|            Seoul|        0|       0|       0|\n",
      "|2020-01-20|  16|            Busan|        0|       0|       0|\n",
      "|2020-01-20|  16|            Daegu|        0|       0|       0|\n",
      "|2020-01-20|  16|          Incheon|        1|       0|       0|\n",
      "|2020-01-20|  16|          Gwangju|        0|       0|       0|\n",
      "|2020-01-20|  16|          Daejeon|        0|       0|       0|\n",
      "|2020-01-20|  16|            Ulsan|        0|       0|       0|\n",
      "|2020-01-20|  16|           Sejong|        0|       0|       0|\n",
      "|2020-01-20|  16|      Gyeonggi-do|        0|       0|       0|\n",
      "|2020-01-20|  16|       Gangwon-do|        0|       0|       0|\n",
      "|2020-01-20|  16|Chungcheongbuk-do|        0|       0|       0|\n",
      "|2020-01-20|  16|Chungcheongnam-do|        0|       0|       0|\n",
      "|2020-01-20|  16|     Jeollabuk-do|        0|       0|       0|\n",
      "|2020-01-20|  16|     Jeollanam-do|        0|       0|       0|\n",
      "|2020-01-20|  16| Gyeongsangbuk-do|        0|       0|       0|\n",
      "|2020-01-20|  16| Gyeongsangnam-do|        0|       0|       0|\n",
      "|2020-01-20|  16|          Jeju-do|        0|       0|       0|\n",
      "|2020-01-21|  16|            Seoul|        0|       0|       0|\n",
      "|2020-01-21|  16|            Busan|        0|       0|       0|\n",
      "|2020-01-21|  16|            Daegu|        0|       0|       0|\n",
      "+----------+----+-----------------+---------+--------+--------+\n",
      "only showing top 20 rows\n",
      "\n"
     ]
    }
   ],
   "source": [
    "time=spark.read.load('./TimeProvince.csv',format='csv',inferSchema=True,header=True)\n",
    "time.show()"
   ]
  },
  {
   "cell_type": "code",
   "execution_count": 9,
   "id": "7c7f40ab",
   "metadata": {},
   "outputs": [
    {
     "name": "stdout",
     "output_type": "stream",
     "text": [
      "+----------+----+--------+---------+--------+--------+----+\n",
      "|      date|time|province|confirmed|released|deceased|Lag7|\n",
      "+----------+----+--------+---------+--------+--------+----+\n",
      "|2020-01-20|  16|   Busan|        0|       0|       0|null|\n",
      "|2020-01-21|  16|   Busan|        0|       0|       0|null|\n",
      "|2020-01-22|  16|   Busan|        0|       0|       0|null|\n",
      "|2020-01-23|  16|   Busan|        0|       0|       0|null|\n",
      "|2020-01-24|  16|   Busan|        0|       0|       0|null|\n",
      "|2020-01-25|  16|   Busan|        0|       0|       0|null|\n",
      "|2020-01-26|  16|   Busan|        0|       0|       0|null|\n",
      "|2020-01-27|  16|   Busan|        0|       0|       0|   0|\n",
      "|2020-01-28|  16|   Busan|        0|       0|       0|   0|\n",
      "|2020-01-29|  16|   Busan|        0|       0|       0|   0|\n",
      "|2020-01-30|  16|   Busan|        0|       0|       0|   0|\n",
      "|2020-01-31|  16|   Busan|        0|       0|       0|   0|\n",
      "|2020-02-01|  16|   Busan|        0|       0|       0|   0|\n",
      "|2020-02-02|  16|   Busan|        0|       0|       0|   0|\n",
      "|2020-02-03|  16|   Busan|        0|       0|       0|   0|\n",
      "|2020-02-04|  16|   Busan|        0|       0|       0|   0|\n",
      "|2020-02-05|  16|   Busan|        0|       0|       0|   0|\n",
      "|2020-02-06|  16|   Busan|        0|       0|       0|   0|\n",
      "|2020-02-07|  16|   Busan|        0|       0|       0|   0|\n",
      "|2020-02-08|  16|   Busan|        0|       0|       0|   0|\n",
      "+----------+----+--------+---------+--------+--------+----+\n",
      "only showing top 20 rows\n",
      "\n"
     ]
    }
   ],
   "source": [
    "from pyspark.sql import functions as F\n",
    "windowFrame=Window.partitionBy(['province']).orderBy('date')\n",
    "time_window=time.withColumn('Lag7',F.lag('confirmed',7).over(windowFrame))\n",
    "time_window.show()"
   ]
  },
  {
   "cell_type": "code",
   "execution_count": null,
   "id": "ca2417d8",
   "metadata": {},
   "outputs": [],
   "source": []
  }
 ],
 "metadata": {
  "kernelspec": {
   "display_name": "Python 3 (ipykernel)",
   "language": "python",
   "name": "python3"
  },
  "language_info": {
   "codemirror_mode": {
    "name": "ipython",
    "version": 3
   },
   "file_extension": ".py",
   "mimetype": "text/x-python",
   "name": "python",
   "nbconvert_exporter": "python",
   "pygments_lexer": "ipython3",
   "version": "3.9.7"
  }
 },
 "nbformat": 4,
 "nbformat_minor": 5
}
