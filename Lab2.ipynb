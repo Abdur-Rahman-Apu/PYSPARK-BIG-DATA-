{
 "cells": [
  {
   "cell_type": "markdown",
   "id": "8b35a138",
   "metadata": {},
   "source": [
    "### Basic python"
   ]
  },
  {
   "cell_type": "code",
   "execution_count": 1,
   "id": "c344c895",
   "metadata": {},
   "outputs": [
    {
     "name": "stdout",
     "output_type": "stream",
     "text": [
      "Welcome to python\n"
     ]
    }
   ],
   "source": [
    "print(\"Welcome to python\")"
   ]
  },
  {
   "cell_type": "code",
   "execution_count": 2,
   "id": "efd791ea",
   "metadata": {},
   "outputs": [
    {
     "name": "stdout",
     "output_type": "stream",
     "text": [
      "10\n"
     ]
    }
   ],
   "source": [
    "a=10\n",
    "if a==10:\n",
    "    print(a)\n",
    "elif a==1:\n",
    "    print(a)\n",
    "else:\n",
    "    print(\"OO hoo\")"
   ]
  },
  {
   "cell_type": "code",
   "execution_count": 3,
   "id": "7122b3fe",
   "metadata": {},
   "outputs": [
    {
     "name": "stdout",
     "output_type": "stream",
     "text": [
      "4\n"
     ]
    }
   ],
   "source": [
    "for i in range(10):\n",
    "    if i==4:\n",
    "        print(i)"
   ]
  },
  {
   "cell_type": "code",
   "execution_count": 4,
   "id": "cc0c7357",
   "metadata": {},
   "outputs": [],
   "source": [
    "arr=['Big','Data','And','Iot']"
   ]
  },
  {
   "cell_type": "code",
   "execution_count": 5,
   "id": "362813de",
   "metadata": {},
   "outputs": [
    {
     "data": {
      "text/plain": [
       "['Big', 'Data', 'And', 'Iot']"
      ]
     },
     "execution_count": 5,
     "metadata": {},
     "output_type": "execute_result"
    }
   ],
   "source": [
    "arr"
   ]
  },
  {
   "cell_type": "code",
   "execution_count": 6,
   "id": "8b20efd1",
   "metadata": {},
   "outputs": [
    {
     "name": "stdout",
     "output_type": "stream",
     "text": [
      "Big\n",
      "Data\n",
      "And\n",
      "Iot\n"
     ]
    }
   ],
   "source": [
    "for i in arr:\n",
    "    print(i)"
   ]
  },
  {
   "cell_type": "code",
   "execution_count": 7,
   "id": "35cd6d55",
   "metadata": {},
   "outputs": [
    {
     "name": "stdout",
     "output_type": "stream",
     "text": [
      "('Big', 'Data', 'And', 'Iot')\n"
     ]
    }
   ],
   "source": [
    "tup=tuple(arr)\n",
    "print(tup)"
   ]
  },
  {
   "cell_type": "code",
   "execution_count": 8,
   "id": "d4e726d5",
   "metadata": {},
   "outputs": [],
   "source": [
    "dic={\n",
    "    'Big data': 112,\n",
    "    'IOT':113\n",
    "}"
   ]
  },
  {
   "cell_type": "code",
   "execution_count": 9,
   "id": "8823fe74",
   "metadata": {},
   "outputs": [
    {
     "name": "stdout",
     "output_type": "stream",
     "text": [
      "{'Big data': 112, 'IOT': 113}\n"
     ]
    }
   ],
   "source": [
    "print(dic)"
   ]
  },
  {
   "cell_type": "code",
   "execution_count": 10,
   "id": "9113817f",
   "metadata": {},
   "outputs": [],
   "source": [
    "arr.sort()"
   ]
  },
  {
   "cell_type": "code",
   "execution_count": 11,
   "id": "3175cc5c",
   "metadata": {},
   "outputs": [
    {
     "name": "stdout",
     "output_type": "stream",
     "text": [
      "['And', 'Big', 'Data', 'Iot']\n"
     ]
    }
   ],
   "source": [
    "print(arr)"
   ]
  },
  {
   "cell_type": "markdown",
   "id": "af74f329",
   "metadata": {},
   "source": [
    "<h3><b>Lambda function</b></h3>"
   ]
  },
  {
   "cell_type": "code",
   "execution_count": 12,
   "id": "b8810240",
   "metadata": {},
   "outputs": [
    {
     "data": {
      "text/plain": [
       "7"
      ]
     },
     "execution_count": 12,
     "metadata": {},
     "output_type": "execute_result"
    }
   ],
   "source": [
    "#lambda function\n",
    "# add two number\n",
    "\n",
    "add=lambda x,y:x+y\n",
    "add(3,4)"
   ]
  },
  {
   "cell_type": "code",
   "execution_count": 13,
   "id": "35acff1c",
   "metadata": {},
   "outputs": [
    {
     "data": {
      "text/plain": [
       "['Abdur', 'Rahman', 'Apu']"
      ]
     },
     "execution_count": 13,
     "metadata": {},
     "output_type": "execute_result"
    }
   ],
   "source": [
    "name=\"Abdur Rahman Apu\"\n",
    "\n",
    "sp=lambda name: name.split(' ')\n",
    "sp(name)"
   ]
  },
  {
   "cell_type": "code",
   "execution_count": 14,
   "id": "1ab260aa",
   "metadata": {},
   "outputs": [
    {
     "data": {
      "text/plain": [
       "['1', '2', '3', '4', '5']"
      ]
     },
     "execution_count": 14,
     "metadata": {},
     "output_type": "execute_result"
    }
   ],
   "source": [
    "arr=['1','2','3','4','5']\n",
    "arr"
   ]
  },
  {
   "cell_type": "markdown",
   "id": "eb8e87a0",
   "metadata": {},
   "source": [
    "<h3><b> Map</b></h3>"
   ]
  },
  {
   "cell_type": "code",
   "execution_count": 15,
   "id": "c0e66bc1",
   "metadata": {},
   "outputs": [
    {
     "data": {
      "text/plain": [
       "[1, 2, 3, 4, 5]"
      ]
     },
     "execution_count": 15,
     "metadata": {},
     "output_type": "execute_result"
    }
   ],
   "source": [
    "arr=list(map(int, arr))\n",
    "arr"
   ]
  },
  {
   "cell_type": "code",
   "execution_count": 16,
   "id": "b0debe87",
   "metadata": {},
   "outputs": [
    {
     "data": {
      "text/plain": [
       "[1, 4, 9, 16, 25]"
      ]
     },
     "execution_count": 16,
     "metadata": {},
     "output_type": "execute_result"
    }
   ],
   "source": [
    "sq=list(map(lambda x:x*x, arr))\n",
    "sq"
   ]
  },
  {
   "cell_type": "code",
   "execution_count": 17,
   "id": "2b65efce",
   "metadata": {},
   "outputs": [
    {
     "name": "stdout",
     "output_type": "stream",
     "text": [
      "[0, 0]\n",
      "[1, 1]\n",
      "[4, 8]\n",
      "[9, 27]\n",
      "[16, 64]\n"
     ]
    }
   ],
   "source": [
    "def squar(x):\n",
    "    return x*x\n",
    "\n",
    "def cube(x):\n",
    "    return x*x*x\n",
    "\n",
    "func=[squar,cube]\n",
    "\n",
    "for i in range(5):\n",
    "    val=list(map( lambda x: x(i), func))\n",
    "    print(val)"
   ]
  },
  {
   "cell_type": "markdown",
   "id": "d90d8e92",
   "metadata": {},
   "source": [
    "<h3><b> Filter</b></h3>"
   ]
  },
  {
   "cell_type": "code",
   "execution_count": 18,
   "id": "ef95a497",
   "metadata": {},
   "outputs": [
    {
     "data": {
      "text/plain": [
       "[4, 5]"
      ]
     },
     "execution_count": 18,
     "metadata": {},
     "output_type": "execute_result"
    }
   ],
   "source": [
    "num=[1,2,3,4,5]\n",
    "\n",
    "list(filter(lambda x: x>3, num))"
   ]
  },
  {
   "cell_type": "markdown",
   "id": "e3a886ed",
   "metadata": {},
   "source": [
    "<h3><b> Reduce</b></h3>"
   ]
  },
  {
   "cell_type": "code",
   "execution_count": 19,
   "id": "f5ca5a9b",
   "metadata": {},
   "outputs": [
    {
     "data": {
      "text/plain": [
       "15"
      ]
     },
     "execution_count": 19,
     "metadata": {},
     "output_type": "execute_result"
    }
   ],
   "source": [
    "from functools import reduce\n",
    "reduce(lambda x,y: x+y,num)"
   ]
  },
  {
   "cell_type": "markdown",
   "id": "d9ca3652",
   "metadata": {},
   "source": [
    "<h3><b> String method</b></h3>"
   ]
  },
  {
   "cell_type": "code",
   "execution_count": 20,
   "id": "2b61d4c1",
   "metadata": {},
   "outputs": [],
   "source": [
    "name=\"abdur Rahman apu\""
   ]
  },
  {
   "cell_type": "code",
   "execution_count": 21,
   "id": "10636198",
   "metadata": {},
   "outputs": [
    {
     "data": {
      "text/plain": [
       "'abdur rahman apu'"
      ]
     },
     "execution_count": 21,
     "metadata": {},
     "output_type": "execute_result"
    }
   ],
   "source": [
    "name.lower()"
   ]
  },
  {
   "cell_type": "code",
   "execution_count": 22,
   "id": "5848699a",
   "metadata": {},
   "outputs": [
    {
     "data": {
      "text/plain": [
       "'ABDUR RAHMAN APU'"
      ]
     },
     "execution_count": 22,
     "metadata": {},
     "output_type": "execute_result"
    }
   ],
   "source": [
    "name.upper()"
   ]
  },
  {
   "cell_type": "code",
   "execution_count": 23,
   "id": "60208024",
   "metadata": {},
   "outputs": [
    {
     "data": {
      "text/plain": [
       "'Abdur rahman apu'"
      ]
     },
     "execution_count": 23,
     "metadata": {},
     "output_type": "execute_result"
    }
   ],
   "source": [
    "name.capitalize()"
   ]
  },
  {
   "cell_type": "code",
   "execution_count": 24,
   "id": "1ba6e0c0",
   "metadata": {},
   "outputs": [
    {
     "data": {
      "text/plain": [
       "'abdur Rahman apu'"
      ]
     },
     "execution_count": 24,
     "metadata": {},
     "output_type": "execute_result"
    }
   ],
   "source": [
    "name"
   ]
  },
  {
   "cell_type": "code",
   "execution_count": 25,
   "id": "6b07978e",
   "metadata": {},
   "outputs": [
    {
     "data": {
      "text/plain": [
       "0"
      ]
     },
     "execution_count": 25,
     "metadata": {},
     "output_type": "execute_result"
    }
   ],
   "source": [
    "name.find('a')"
   ]
  },
  {
   "cell_type": "code",
   "execution_count": 26,
   "id": "e725f19d",
   "metadata": {},
   "outputs": [
    {
     "data": {
      "text/plain": [
       "-1"
      ]
     },
     "execution_count": 26,
     "metadata": {},
     "output_type": "execute_result"
    }
   ],
   "source": [
    "name.find('A')"
   ]
  },
  {
   "cell_type": "code",
   "execution_count": 27,
   "id": "2658bfcb",
   "metadata": {},
   "outputs": [
    {
     "data": {
      "text/plain": [
       "13"
      ]
     },
     "execution_count": 27,
     "metadata": {},
     "output_type": "execute_result"
    }
   ],
   "source": [
    "name.rfind('a')"
   ]
  },
  {
   "cell_type": "code",
   "execution_count": 28,
   "id": "7320cc5d",
   "metadata": {},
   "outputs": [
    {
     "data": {
      "text/plain": [
       "16"
      ]
     },
     "execution_count": 28,
     "metadata": {},
     "output_type": "execute_result"
    }
   ],
   "source": [
    "len(name)"
   ]
  },
  {
   "cell_type": "code",
   "execution_count": 29,
   "id": "23810008",
   "metadata": {},
   "outputs": [
    {
     "data": {
      "text/plain": [
       "4"
      ]
     },
     "execution_count": 29,
     "metadata": {},
     "output_type": "execute_result"
    }
   ],
   "source": [
    "name.count('a')"
   ]
  },
  {
   "cell_type": "code",
   "execution_count": 30,
   "id": "6f21e8ab",
   "metadata": {},
   "outputs": [
    {
     "data": {
      "text/plain": [
       "'           hello string       '"
      ]
     },
     "execution_count": 30,
     "metadata": {},
     "output_type": "execute_result"
    }
   ],
   "source": [
    "string=\"           hello string       \"\n",
    "string"
   ]
  },
  {
   "cell_type": "code",
   "execution_count": 31,
   "id": "d4feccf4",
   "metadata": {},
   "outputs": [
    {
     "data": {
      "text/plain": [
       "'hello string       '"
      ]
     },
     "execution_count": 31,
     "metadata": {},
     "output_type": "execute_result"
    }
   ],
   "source": [
    "string.lstrip()"
   ]
  },
  {
   "cell_type": "code",
   "execution_count": 32,
   "id": "0ca84755",
   "metadata": {},
   "outputs": [
    {
     "data": {
      "text/plain": [
       "'           hello string'"
      ]
     },
     "execution_count": 32,
     "metadata": {},
     "output_type": "execute_result"
    }
   ],
   "source": [
    "string.rstrip()"
   ]
  },
  {
   "cell_type": "code",
   "execution_count": 33,
   "id": "3c0fb923",
   "metadata": {},
   "outputs": [
    {
     "data": {
      "text/plain": [
       "'hello string'"
      ]
     },
     "execution_count": 33,
     "metadata": {},
     "output_type": "execute_result"
    }
   ],
   "source": [
    "string.strip()"
   ]
  },
  {
   "cell_type": "code",
   "execution_count": 34,
   "id": "6be7029b",
   "metadata": {},
   "outputs": [
    {
     "data": {
      "text/plain": [
       "['hello', 'string']"
      ]
     },
     "execution_count": 34,
     "metadata": {},
     "output_type": "execute_result"
    }
   ],
   "source": [
    "string.split()"
   ]
  },
  {
   "cell_type": "markdown",
   "id": "0802f6eb",
   "metadata": {},
   "source": [
    "<h3><b> Big data :<i> pyspark</i></b></h3>"
   ]
  },
  {
   "cell_type": "markdown",
   "id": "a064bb45",
   "metadata": {},
   "source": [
    "**Need to import findspark at first otherwise it will return error**"
   ]
  },
  {
   "cell_type": "code",
   "execution_count": 35,
   "id": "2658d85b",
   "metadata": {},
   "outputs": [],
   "source": [
    "import findspark\n",
    "findspark.init()"
   ]
  },
  {
   "cell_type": "markdown",
   "id": "c3f37a30",
   "metadata": {},
   "source": [
    "**Create a session** </br>\n",
    "**getOrCreate function will create a session if not present in the local**"
   ]
  },
  {
   "cell_type": "code",
   "execution_count": 36,
   "id": "17d996cc",
   "metadata": {},
   "outputs": [],
   "source": [
    "import pyspark\n",
    "from pyspark.sql import SparkSession"
   ]
  },
  {
   "cell_type": "code",
   "execution_count": 37,
   "id": "750ddca5",
   "metadata": {},
   "outputs": [
    {
     "data": {
      "text/html": [
       "\n",
       "            <div>\n",
       "                <p><b>SparkSession - in-memory</b></p>\n",
       "                \n",
       "        <div>\n",
       "            <p><b>SparkContext</b></p>\n",
       "\n",
       "            <p><a href=\"http://DESKTOP-9P30N8Q:4044\">Spark UI</a></p>\n",
       "\n",
       "            <dl>\n",
       "              <dt>Version</dt>\n",
       "                <dd><code>v3.2.1</code></dd>\n",
       "              <dt>Master</dt>\n",
       "                <dd><code>local[*]</code></dd>\n",
       "              <dt>AppName</dt>\n",
       "                <dd><code>pi</code></dd>\n",
       "            </dl>\n",
       "        </div>\n",
       "        \n",
       "            </div>\n",
       "        "
      ],
      "text/plain": [
       "<pyspark.sql.session.SparkSession at 0x20242ce44c0>"
      ]
     },
     "execution_count": 37,
     "metadata": {},
     "output_type": "execute_result"
    }
   ],
   "source": [
    "spark=SparkSession.builder.appName('pi').getOrCreate()\n",
    "spark"
   ]
  },
  {
   "cell_type": "markdown",
   "id": "a7739ac6",
   "metadata": {},
   "source": [
    "**In pyspark, data are divided into cluster. It is called RDD (Resilient Distributed Dataset)**"
   ]
  },
  {
   "cell_type": "code",
   "execution_count": 38,
   "id": "18689c49",
   "metadata": {},
   "outputs": [
    {
     "data": {
      "text/plain": [
       "[0, 1, 2, 3, 4, 5, 6, 7, 8, 9, 10, 11, 12, 13, 14, 15, 16, 17, 18, 19]"
      ]
     },
     "execution_count": 38,
     "metadata": {},
     "output_type": "execute_result"
    }
   ],
   "source": [
    "import numpy as np\n",
    "rdd=spark.sparkContext.parallelize(np.arange(0,20),2)\n",
    "rdd.collect()"
   ]
  },
  {
   "cell_type": "code",
   "execution_count": 39,
   "id": "0994d186",
   "metadata": {},
   "outputs": [
    {
     "data": {
      "text/plain": [
       "[[0, 1, 2, 3, 4, 5, 6, 7, 8, 9], [10, 11, 12, 13, 14, 15, 16, 17, 18, 19]]"
      ]
     },
     "execution_count": 39,
     "metadata": {},
     "output_type": "execute_result"
    }
   ],
   "source": [
    "rdd.glom().collect()"
   ]
  },
  {
   "cell_type": "code",
   "execution_count": 40,
   "id": "3f14dabd",
   "metadata": {},
   "outputs": [
    {
     "data": {
      "text/plain": [
       "2"
      ]
     },
     "execution_count": 40,
     "metadata": {},
     "output_type": "execute_result"
    }
   ],
   "source": [
    "rdd.getNumPartitions()"
   ]
  },
  {
   "cell_type": "code",
   "execution_count": 41,
   "id": "1cf8cd13",
   "metadata": {},
   "outputs": [
    {
     "data": {
      "text/plain": [
       "[4, 5, 6, 7, 8, 9, 10, 11, 12, 13, 14, 15, 16, 17, 18, 19]"
      ]
     },
     "execution_count": 41,
     "metadata": {},
     "output_type": "execute_result"
    }
   ],
   "source": [
    "rdd1=rdd.filter(lambda x: x>3)\n",
    "rdd1.collect()"
   ]
  }
 ],
 "metadata": {
  "kernelspec": {
   "display_name": "Python 3 (ipykernel)",
   "language": "python",
   "name": "python3"
  },
  "language_info": {
   "codemirror_mode": {
    "name": "ipython",
    "version": 3
   },
   "file_extension": ".py",
   "mimetype": "text/x-python",
   "name": "python",
   "nbconvert_exporter": "python",
   "pygments_lexer": "ipython3",
   "version": "3.9.7"
  }
 },
 "nbformat": 4,
 "nbformat_minor": 5
}
