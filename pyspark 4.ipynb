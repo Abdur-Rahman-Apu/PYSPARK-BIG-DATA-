{
 "cells": [
  {
   "cell_type": "markdown",
   "id": "34336aee",
   "metadata": {},
   "source": [
    "<b style=\"color: #3498db; font-size: 18px;\">The following things will be covered in this part</b>\n",
    "<ul>\n",
    "    <li> Create a session in pyspark </li>\n",
    "    <li> Read a CSV File </li>\n",
    "    <li> Filter function</li>\n",
    "    <li> and, or, not operator in filter function</li>\n",
    "</ul>"
   ]
  },
  {
   "cell_type": "code",
   "execution_count": 9,
   "id": "f8419168",
   "metadata": {},
   "outputs": [
    {
     "data": {
      "text/html": [
       "\n",
       "            <div>\n",
       "                <p><b>SparkSession - in-memory</b></p>\n",
       "                \n",
       "        <div>\n",
       "            <p><b>SparkContext</b></p>\n",
       "\n",
       "            <p><a href=\"http://DESKTOP-9P30N8Q:4044\">Spark UI</a></p>\n",
       "\n",
       "            <dl>\n",
       "              <dt>Version</dt>\n",
       "                <dd><code>v3.1.2</code></dd>\n",
       "              <dt>Master</dt>\n",
       "                <dd><code>local[*]</code></dd>\n",
       "              <dt>AppName</dt>\n",
       "                <dd><code>Practice</code></dd>\n",
       "            </dl>\n",
       "        </div>\n",
       "        \n",
       "            </div>\n",
       "        "
      ],
      "text/plain": [
       "<pyspark.sql.session.SparkSession at 0x207238d57c0>"
      ]
     },
     "execution_count": 9,
     "metadata": {},
     "output_type": "execute_result"
    }
   ],
   "source": [
    "import pyspark\n",
    "from pyspark.sql import SparkSession\n",
    "spark=SparkSession.builder.appName('Practice').getOrCreate()\n",
    "spark"
   ]
  },
  {
   "cell_type": "markdown",
   "id": "cbf5e91b",
   "metadata": {},
   "source": [
    "<b style=\"color: #3498db; font-size: 18px;\">Read a csv file</b>\n"
   ]
  },
  {
   "cell_type": "code",
   "execution_count": 2,
   "id": "0eb5604d",
   "metadata": {},
   "outputs": [
    {
     "name": "stdout",
     "output_type": "stream",
     "text": [
      "+---------+---+----------+------+\n",
      "|     Name|Age|Experience|Salary|\n",
      "+---------+---+----------+------+\n",
      "|    Krish| 31|        10| 30000|\n",
      "|Subhanshu| 30|         8| 25000|\n",
      "|    Sunny| 29|         7| 20000|\n",
      "|     Paul| 24|         6| 20000|\n",
      "|   Harsha| 21|         4| 15000|\n",
      "|  Shubham| 23|         5| 18000|\n",
      "+---------+---+----------+------+\n",
      "\n"
     ]
    }
   ],
   "source": [
    "df_pyspark=spark.read.csv('test4.csv',header=True,inferSchema=True)\n",
    "df_pyspark.show()"
   ]
  },
  {
   "cell_type": "markdown",
   "id": "4e2a77ac",
   "metadata": {},
   "source": [
    "<b style=\"color: #3498db; font-size: 18px;\">FILTER FUNCTION</b>"
   ]
  },
  {
   "cell_type": "code",
   "execution_count": 3,
   "id": "35bc2ec6",
   "metadata": {},
   "outputs": [
    {
     "name": "stdout",
     "output_type": "stream",
     "text": [
      "+---------+---+----------+------+\n",
      "|     Name|Age|Experience|Salary|\n",
      "+---------+---+----------+------+\n",
      "|    Krish| 31|        10| 30000|\n",
      "|Subhanshu| 30|         8| 25000|\n",
      "+---------+---+----------+------+\n",
      "\n"
     ]
    }
   ],
   "source": [
    "df_pyspark.filter('Salary>20000').show()"
   ]
  },
  {
   "cell_type": "markdown",
   "id": "a0094d18",
   "metadata": {},
   "source": [
    "<b style=\"color: #3498db; font-size: 18px;\">AND (&) OPERATOR</b>"
   ]
  },
  {
   "cell_type": "code",
   "execution_count": 5,
   "id": "c02b644a",
   "metadata": {},
   "outputs": [
    {
     "name": "stdout",
     "output_type": "stream",
     "text": [
      "+---------+---+----------+------+\n",
      "|     Name|Age|Experience|Salary|\n",
      "+---------+---+----------+------+\n",
      "|    Krish| 31|        10| 30000|\n",
      "|Subhanshu| 30|         8| 25000|\n",
      "|    Sunny| 29|         7| 20000|\n",
      "+---------+---+----------+------+\n",
      "\n"
     ]
    }
   ],
   "source": [
    "df_pyspark.filter((df_pyspark['Salary']>15000) & (df_pyspark['Age']>24)).show()"
   ]
  },
  {
   "cell_type": "markdown",
   "id": "4feeaadf",
   "metadata": {},
   "source": [
    "<b style=\"color: #3498db; font-size: 18px;\">OR (|) OPERATOR</b>"
   ]
  },
  {
   "cell_type": "code",
   "execution_count": 6,
   "id": "f1b42cf8",
   "metadata": {},
   "outputs": [
    {
     "name": "stdout",
     "output_type": "stream",
     "text": [
      "+-------+---+----------+------+\n",
      "|   Name|Age|Experience|Salary|\n",
      "+-------+---+----------+------+\n",
      "|  Krish| 31|        10| 30000|\n",
      "| Harsha| 21|         4| 15000|\n",
      "|Shubham| 23|         5| 18000|\n",
      "+-------+---+----------+------+\n",
      "\n"
     ]
    }
   ],
   "source": [
    "df_pyspark.filter((df_pyspark['Salary']<20000) | (df_pyspark['Age']>30)).show()"
   ]
  },
  {
   "cell_type": "code",
   "execution_count": 7,
   "id": "6716ff71",
   "metadata": {},
   "outputs": [
    {
     "name": "stdout",
     "output_type": "stream",
     "text": [
      "+-------+---+\n",
      "|   Name|Age|\n",
      "+-------+---+\n",
      "|  Krish| 31|\n",
      "| Harsha| 21|\n",
      "|Shubham| 23|\n",
      "+-------+---+\n",
      "\n"
     ]
    }
   ],
   "source": [
    "df_pyspark.filter((df_pyspark['Salary']<20000) | (df_pyspark['Age']>30)).select(['Name','Age']).show()"
   ]
  },
  {
   "cell_type": "markdown",
   "id": "54897194",
   "metadata": {},
   "source": [
    "<b style=\"color: #3498db; font-size: 18px;\">NOT (~) OPERATOR</b>"
   ]
  },
  {
   "cell_type": "code",
   "execution_count": 8,
   "id": "afe4177a",
   "metadata": {},
   "outputs": [
    {
     "name": "stdout",
     "output_type": "stream",
     "text": [
      "+---------+---+----------+------+\n",
      "|     Name|Age|Experience|Salary|\n",
      "+---------+---+----------+------+\n",
      "|Subhanshu| 30|         8| 25000|\n",
      "|    Sunny| 29|         7| 20000|\n",
      "|     Paul| 24|         6| 20000|\n",
      "+---------+---+----------+------+\n",
      "\n"
     ]
    }
   ],
   "source": [
    "df_pyspark.filter(~((df_pyspark['Salary']<20000) | (df_pyspark['Age']>30))).show()"
   ]
  },
  {
   "cell_type": "code",
   "execution_count": null,
   "id": "d20a3a34",
   "metadata": {},
   "outputs": [],
   "source": []
  }
 ],
 "metadata": {
  "kernelspec": {
   "display_name": "Python 3 (ipykernel)",
   "language": "python",
   "name": "python3"
  },
  "language_info": {
   "codemirror_mode": {
    "name": "ipython",
    "version": 3
   },
   "file_extension": ".py",
   "mimetype": "text/x-python",
   "name": "python",
   "nbconvert_exporter": "python",
   "pygments_lexer": "ipython3",
   "version": "3.9.7"
  }
 },
 "nbformat": 4,
 "nbformat_minor": 5
}
