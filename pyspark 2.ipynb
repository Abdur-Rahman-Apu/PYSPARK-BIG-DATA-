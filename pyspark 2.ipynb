{
 "cells": [
  {
   "cell_type": "markdown",
   "id": "7a2a2159",
   "metadata": {},
   "source": [
    "<b style=\"color: #3498db; font-size: 18px;\">The following things will be covered in this part</b>\n",
    "<ul>\n",
    "    <li> Create a session in pyspark </li>\n",
    "    <li> Read a CSV File </li>\n",
    "    <li> Select function in pyspark </li>\n",
    "    <li> Add a column in the dataframe </li>\n",
    "    <li> Rename a column </li>\n",
    "    <li> Drop a column </li>\n",
    "</ul>"
   ]
  },
  {
   "cell_type": "markdown",
   "id": "cfe7cab2",
   "metadata": {},
   "source": [
    "<b style=\"color: #3498db; font-size: 18px;\"> Create a pyspark session</b>"
   ]
  },
  {
   "cell_type": "code",
   "execution_count": 1,
   "id": "f3855fd7",
   "metadata": {},
   "outputs": [
    {
     "data": {
      "text/html": [
       "\n",
       "            <div>\n",
       "                <p><b>SparkSession - in-memory</b></p>\n",
       "                \n",
       "        <div>\n",
       "            <p><b>SparkContext</b></p>\n",
       "\n",
       "            <p><a href=\"http://DESKTOP-9P30N8Q:4042\">Spark UI</a></p>\n",
       "\n",
       "            <dl>\n",
       "              <dt>Version</dt>\n",
       "                <dd><code>v3.1.2</code></dd>\n",
       "              <dt>Master</dt>\n",
       "                <dd><code>local[*]</code></dd>\n",
       "              <dt>AppName</dt>\n",
       "                <dd><code>Practice</code></dd>\n",
       "            </dl>\n",
       "        </div>\n",
       "        \n",
       "            </div>\n",
       "        "
      ],
      "text/plain": [
       "<pyspark.sql.session.SparkSession at 0x272c8e9ffa0>"
      ]
     },
     "execution_count": 1,
     "metadata": {},
     "output_type": "execute_result"
    }
   ],
   "source": [
    "import pyspark\n",
    "from pyspark.sql import SparkSession\n",
    "spark=SparkSession.builder.appName('Practice').getOrCreate()\n",
    "spark"
   ]
  },
  {
   "cell_type": "markdown",
   "id": "31e7d08a",
   "metadata": {},
   "source": [
    "<b style=\"color: #3498db; font-size: 18px;\">Read a CSV file</b>"
   ]
  },
  {
   "cell_type": "code",
   "execution_count": 2,
   "id": "a92005c9",
   "metadata": {},
   "outputs": [
    {
     "name": "stdout",
     "output_type": "stream",
     "text": [
      "+---------+---+----------+\n",
      "|     Name|Age|Experience|\n",
      "+---------+---+----------+\n",
      "|    Krish| 31|        10|\n",
      "|Subhanshu| 30|         8|\n",
      "|    Sunny| 29|         7|\n",
      "|     Paul| 24|         6|\n",
      "|   Harsha| 21|         4|\n",
      "|  Shubham| 23|         5|\n",
      "+---------+---+----------+\n",
      "\n"
     ]
    }
   ],
   "source": [
    "df_pyspark=spark.read.csv('test2.csv',header=True,inferSchema=True)\n",
    "df_pyspark.show()"
   ]
  },
  {
   "cell_type": "markdown",
   "id": "a063dcac",
   "metadata": {},
   "source": [
    "<b style=\"color: #3498db; font-size: 18px;\">Select function in pyspark</b>"
   ]
  },
  {
   "cell_type": "code",
   "execution_count": 3,
   "id": "01df7e66",
   "metadata": {},
   "outputs": [
    {
     "data": {
      "text/plain": [
       "DataFrame[Name: string]"
      ]
     },
     "execution_count": 3,
     "metadata": {},
     "output_type": "execute_result"
    }
   ],
   "source": [
    "df_pyspark.select('Name')"
   ]
  },
  {
   "cell_type": "code",
   "execution_count": 4,
   "id": "d903f5aa",
   "metadata": {},
   "outputs": [
    {
     "name": "stdout",
     "output_type": "stream",
     "text": [
      "+---------+\n",
      "|     Name|\n",
      "+---------+\n",
      "|    Krish|\n",
      "|Subhanshu|\n",
      "|    Sunny|\n",
      "|     Paul|\n",
      "|   Harsha|\n",
      "|  Shubham|\n",
      "+---------+\n",
      "\n"
     ]
    }
   ],
   "source": [
    "df_pyspark.select('Name').show()"
   ]
  },
  {
   "cell_type": "code",
   "execution_count": 5,
   "id": "3ca181b0",
   "metadata": {},
   "outputs": [
    {
     "name": "stdout",
     "output_type": "stream",
     "text": [
      "+---------+----------+\n",
      "|     Name|Experience|\n",
      "+---------+----------+\n",
      "|    Krish|        10|\n",
      "|Subhanshu|         8|\n",
      "|    Sunny|         7|\n",
      "|     Paul|         6|\n",
      "|   Harsha|         4|\n",
      "|  Shubham|         5|\n",
      "+---------+----------+\n",
      "\n"
     ]
    }
   ],
   "source": [
    "df_pyspark.select(['Name','Experience']).show()"
   ]
  },
  {
   "cell_type": "markdown",
   "id": "d081e2bc",
   "metadata": {},
   "source": [
    "<b style=\"color: #3498db; font-size: 18px;\">ADDING A COLUMN</b>"
   ]
  },
  {
   "cell_type": "code",
   "execution_count": 11,
   "id": "04624447",
   "metadata": {},
   "outputs": [
    {
     "name": "stdout",
     "output_type": "stream",
     "text": [
      "+---------+---+----------+------------------------+\n",
      "|     Name|Age|Experience|Experience after 2 years|\n",
      "+---------+---+----------+------------------------+\n",
      "|    Krish| 31|        10|                      12|\n",
      "|Subhanshu| 30|         8|                      10|\n",
      "|    Sunny| 29|         7|                       9|\n",
      "|     Paul| 24|         6|                       8|\n",
      "|   Harsha| 21|         4|                       6|\n",
      "|  Shubham| 23|         5|                       7|\n",
      "+---------+---+----------+------------------------+\n",
      "\n"
     ]
    }
   ],
   "source": [
    "df_pyspark=df_pyspark.withColumn('Experience after 2 years',df_pyspark['Experience']+2)\n",
    "df_pyspark.show()"
   ]
  },
  {
   "cell_type": "markdown",
   "id": "84a2d393",
   "metadata": {},
   "source": [
    "<b style=\"color: #3498db; font-size: 18px;\">RENAME A COLUMN</b>"
   ]
  },
  {
   "cell_type": "code",
   "execution_count": 12,
   "id": "41e905bf",
   "metadata": {},
   "outputs": [
    {
     "name": "stdout",
     "output_type": "stream",
     "text": [
      "+---------+---+----------+--------------------------+\n",
      "|     Name|Age|Experience|Experience after two years|\n",
      "+---------+---+----------+--------------------------+\n",
      "|    Krish| 31|        10|                        12|\n",
      "|Subhanshu| 30|         8|                        10|\n",
      "|    Sunny| 29|         7|                         9|\n",
      "|     Paul| 24|         6|                         8|\n",
      "|   Harsha| 21|         4|                         6|\n",
      "|  Shubham| 23|         5|                         7|\n",
      "+---------+---+----------+--------------------------+\n",
      "\n"
     ]
    }
   ],
   "source": [
    "df_pyspark=df_pyspark.withColumnRenamed('Experience after 2 years','Experience after two years')\n",
    "df_pyspark.show()"
   ]
  },
  {
   "cell_type": "markdown",
   "id": "4b18c63e",
   "metadata": {},
   "source": [
    "<b style=\"color: #3498db; font-size: 18px;\">DROP A COLUMN</b>"
   ]
  },
  {
   "cell_type": "code",
   "execution_count": 13,
   "id": "8389cb6c",
   "metadata": {},
   "outputs": [
    {
     "name": "stdout",
     "output_type": "stream",
     "text": [
      "+---------+---+----------+\n",
      "|     Name|Age|Experience|\n",
      "+---------+---+----------+\n",
      "|    Krish| 31|        10|\n",
      "|Subhanshu| 30|         8|\n",
      "|    Sunny| 29|         7|\n",
      "|     Paul| 24|         6|\n",
      "|   Harsha| 21|         4|\n",
      "|  Shubham| 23|         5|\n",
      "+---------+---+----------+\n",
      "\n"
     ]
    }
   ],
   "source": [
    "df_pyspark=df_pyspark.drop('Experience after two years')\n",
    "df_pyspark.show()"
   ]
  },
  {
   "cell_type": "code",
   "execution_count": null,
   "id": "23f8f1bb",
   "metadata": {},
   "outputs": [],
   "source": []
  }
 ],
 "metadata": {
  "kernelspec": {
   "display_name": "Python 3 (ipykernel)",
   "language": "python",
   "name": "python3"
  },
  "language_info": {
   "codemirror_mode": {
    "name": "ipython",
    "version": 3
   },
   "file_extension": ".py",
   "mimetype": "text/x-python",
   "name": "python",
   "nbconvert_exporter": "python",
   "pygments_lexer": "ipython3",
   "version": "3.9.7"
  }
 },
 "nbformat": 4,
 "nbformat_minor": 5
}
