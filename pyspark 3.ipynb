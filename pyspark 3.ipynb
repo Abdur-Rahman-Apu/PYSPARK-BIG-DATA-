{
 "cells": [
  {
   "cell_type": "markdown",
   "id": "00b7010d",
   "metadata": {},
   "source": [
    "<b style=\"color: #3498db; font-size: 18px;\">The following things will be covered in this part</b>\n",
    "<ul>\n",
    "    <li> Create a session in pyspark </li>\n",
    "    <li> Read a CSV File </li>\n",
    "    <li> Drop null value </li>\n",
    "    <li> Fill null value</li>\n",
    "    <li> Fill null value using imputer function </li>\n",
    "</ul>"
   ]
  },
  {
   "cell_type": "code",
   "execution_count": 1,
   "id": "edfe51a1",
   "metadata": {},
   "outputs": [
    {
     "data": {
      "text/html": [
       "\n",
       "            <div>\n",
       "                <p><b>SparkSession - in-memory</b></p>\n",
       "                \n",
       "        <div>\n",
       "            <p><b>SparkContext</b></p>\n",
       "\n",
       "            <p><a href=\"http://DESKTOP-9P30N8Q:4043\">Spark UI</a></p>\n",
       "\n",
       "            <dl>\n",
       "              <dt>Version</dt>\n",
       "                <dd><code>v3.1.2</code></dd>\n",
       "              <dt>Master</dt>\n",
       "                <dd><code>local[*]</code></dd>\n",
       "              <dt>AppName</dt>\n",
       "                <dd><code>Practice</code></dd>\n",
       "            </dl>\n",
       "        </div>\n",
       "        \n",
       "            </div>\n",
       "        "
      ],
      "text/plain": [
       "<pyspark.sql.session.SparkSession at 0x24ff8928ca0>"
      ]
     },
     "execution_count": 1,
     "metadata": {},
     "output_type": "execute_result"
    }
   ],
   "source": [
    "import pyspark\n",
    "from pyspark.sql import SparkSession\n",
    "spark=SparkSession.builder.appName('Practice').getOrCreate()\n",
    "spark"
   ]
  },
  {
   "cell_type": "markdown",
   "id": "1c31da42",
   "metadata": {},
   "source": [
    "<b style=\"color: #3498db; font-size: 18px;\">READ A CSV FILE</b>"
   ]
  },
  {
   "cell_type": "code",
   "execution_count": 2,
   "id": "f400c879",
   "metadata": {},
   "outputs": [
    {
     "name": "stdout",
     "output_type": "stream",
     "text": [
      "+---------+----+----------+------+\n",
      "|     Name| Age|Experience|Salary|\n",
      "+---------+----+----------+------+\n",
      "|    Krish|  31|        10| 30000|\n",
      "|Subhanshu|  30|         8| 25000|\n",
      "|    Sunny|  29|         7| 20000|\n",
      "|     Paul|  24|         6| 20000|\n",
      "|   Harsha|  21|         4| 15000|\n",
      "|  Shubham|  23|         5| 18000|\n",
      "|   Mahesh|null|      null| 40000|\n",
      "|     null|  34|        10| 38000|\n",
      "|     null|  36|      null|  null|\n",
      "+---------+----+----------+------+\n",
      "\n"
     ]
    }
   ],
   "source": [
    "df_pyspark=spark.read.csv('test3.csv',header=True,inferSchema=True)\n",
    "df_pyspark.show()"
   ]
  },
  {
   "cell_type": "markdown",
   "id": "d376cf3c",
   "metadata": {},
   "source": [
    "<b style=\"color: #3498db; font-size: 18px;\">DROP ALL NULL VALUES</b>"
   ]
  },
  {
   "cell_type": "code",
   "execution_count": 3,
   "id": "dc36b624",
   "metadata": {},
   "outputs": [
    {
     "name": "stdout",
     "output_type": "stream",
     "text": [
      "+---------+---+----------+------+\n",
      "|     Name|Age|Experience|Salary|\n",
      "+---------+---+----------+------+\n",
      "|    Krish| 31|        10| 30000|\n",
      "|Subhanshu| 30|         8| 25000|\n",
      "|    Sunny| 29|         7| 20000|\n",
      "|     Paul| 24|         6| 20000|\n",
      "|   Harsha| 21|         4| 15000|\n",
      "|  Shubham| 23|         5| 18000|\n",
      "+---------+---+----------+------+\n",
      "\n"
     ]
    }
   ],
   "source": [
    "df_pyspark.na.drop().show()"
   ]
  },
  {
   "cell_type": "markdown",
   "id": "833bf73d",
   "metadata": {},
   "source": [
    "### drop function has some parameter e.g. how, thresh, subset"
   ]
  },
  {
   "cell_type": "markdown",
   "id": "775206e6",
   "metadata": {},
   "source": [
    "<b style=\"color: #3498db; font-size: 18px;\">how = any / all</b>\n",
    "\n",
    "* by defalut how =any; means if any null value is present in a row then drop it\n",
    "* how = all; means that if a row contains null value in its all columns then drop it"
   ]
  },
  {
   "cell_type": "code",
   "execution_count": 4,
   "id": "def9cc81",
   "metadata": {},
   "outputs": [
    {
     "name": "stdout",
     "output_type": "stream",
     "text": [
      "+---------+---+----------+------+\n",
      "|     Name|Age|Experience|Salary|\n",
      "+---------+---+----------+------+\n",
      "|    Krish| 31|        10| 30000|\n",
      "|Subhanshu| 30|         8| 25000|\n",
      "|    Sunny| 29|         7| 20000|\n",
      "|     Paul| 24|         6| 20000|\n",
      "|   Harsha| 21|         4| 15000|\n",
      "|  Shubham| 23|         5| 18000|\n",
      "+---------+---+----------+------+\n",
      "\n"
     ]
    }
   ],
   "source": [
    "df_pyspark.na.drop(how='any').show()"
   ]
  },
  {
   "cell_type": "code",
   "execution_count": 5,
   "id": "ad208b52",
   "metadata": {},
   "outputs": [
    {
     "name": "stdout",
     "output_type": "stream",
     "text": [
      "+---------+----+----------+------+\n",
      "|     Name| Age|Experience|Salary|\n",
      "+---------+----+----------+------+\n",
      "|    Krish|  31|        10| 30000|\n",
      "|Subhanshu|  30|         8| 25000|\n",
      "|    Sunny|  29|         7| 20000|\n",
      "|     Paul|  24|         6| 20000|\n",
      "|   Harsha|  21|         4| 15000|\n",
      "|  Shubham|  23|         5| 18000|\n",
      "|   Mahesh|null|      null| 40000|\n",
      "|     null|  34|        10| 38000|\n",
      "|     null|  36|      null|  null|\n",
      "+---------+----+----------+------+\n",
      "\n"
     ]
    }
   ],
   "source": [
    "df_pyspark.na.drop(how='all').show()"
   ]
  },
  {
   "cell_type": "markdown",
   "id": "ea72b818",
   "metadata": {},
   "source": [
    "<b style=\"color: #3498db; font-size: 18px;\">thresh</b>\n",
    "* thresh=2 means atleast 2 column values will be non null.\n",
    "* thresh=3 means atleast 3 column values will be non null.\n",
    "* thresh=4 means atleast 4 column values will be non null."
   ]
  },
  {
   "cell_type": "code",
   "execution_count": 6,
   "id": "97eff7b9",
   "metadata": {},
   "outputs": [
    {
     "name": "stdout",
     "output_type": "stream",
     "text": [
      "+---------+----+----------+------+\n",
      "|     Name| Age|Experience|Salary|\n",
      "+---------+----+----------+------+\n",
      "|    Krish|  31|        10| 30000|\n",
      "|Subhanshu|  30|         8| 25000|\n",
      "|    Sunny|  29|         7| 20000|\n",
      "|     Paul|  24|         6| 20000|\n",
      "|   Harsha|  21|         4| 15000|\n",
      "|  Shubham|  23|         5| 18000|\n",
      "|   Mahesh|null|      null| 40000|\n",
      "|     null|  34|        10| 38000|\n",
      "+---------+----+----------+------+\n",
      "\n"
     ]
    }
   ],
   "source": [
    "df_pyspark.na.drop(how='any',thresh=2).show()"
   ]
  },
  {
   "cell_type": "markdown",
   "id": "c5b7894c",
   "metadata": {},
   "source": [
    "<b style=\"color: #3498db; font-size: 18px;\">Subset</b>\n",
    "* subset='age' means that drop that row where age column value is null."
   ]
  },
  {
   "cell_type": "code",
   "execution_count": 7,
   "id": "661840a3",
   "metadata": {},
   "outputs": [
    {
     "name": "stdout",
     "output_type": "stream",
     "text": [
      "+---------+---+----------+------+\n",
      "|     Name|Age|Experience|Salary|\n",
      "+---------+---+----------+------+\n",
      "|    Krish| 31|        10| 30000|\n",
      "|Subhanshu| 30|         8| 25000|\n",
      "|    Sunny| 29|         7| 20000|\n",
      "|     Paul| 24|         6| 20000|\n",
      "|   Harsha| 21|         4| 15000|\n",
      "|  Shubham| 23|         5| 18000|\n",
      "|     null| 34|        10| 38000|\n",
      "|     null| 36|      null|  null|\n",
      "+---------+---+----------+------+\n",
      "\n"
     ]
    }
   ],
   "source": [
    "df_pyspark.na.drop(how='any',subset='age').show()"
   ]
  },
  {
   "cell_type": "code",
   "execution_count": 10,
   "id": "241c23ff",
   "metadata": {},
   "outputs": [
    {
     "name": "stdout",
     "output_type": "stream",
     "text": [
      "+-------------+----+----------+------+\n",
      "|         Name| Age|Experience|Salary|\n",
      "+-------------+----+----------+------+\n",
      "|        Krish|  31|        10| 30000|\n",
      "|    Subhanshu|  30|         8| 25000|\n",
      "|        Sunny|  29|         7| 20000|\n",
      "|         Paul|  24|         6| 20000|\n",
      "|       Harsha|  21|         4| 15000|\n",
      "|      Shubham|  23|         5| 18000|\n",
      "|       Mahesh|null|      null| 40000|\n",
      "|Missing value|  34|        10| 38000|\n",
      "|Missing value|  36|      null|  null|\n",
      "+-------------+----+----------+------+\n",
      "\n"
     ]
    }
   ],
   "source": [
    "df_pyspark.fillna('Missing value').show()"
   ]
  },
  {
   "cell_type": "code",
   "execution_count": 11,
   "id": "52a7a9a0",
   "metadata": {},
   "outputs": [
    {
     "name": "stdout",
     "output_type": "stream",
     "text": [
      "+---------+---+----------+------+\n",
      "|     Name|Age|Experience|Salary|\n",
      "+---------+---+----------+------+\n",
      "|    Krish| 31|        10| 30000|\n",
      "|Subhanshu| 30|         8| 25000|\n",
      "|    Sunny| 29|         7| 20000|\n",
      "|     Paul| 24|         6| 20000|\n",
      "|   Harsha| 21|         4| 15000|\n",
      "|  Shubham| 23|         5| 18000|\n",
      "|   Mahesh| 10|        10| 40000|\n",
      "|     null| 34|        10| 38000|\n",
      "|     null| 36|        10|    10|\n",
      "+---------+---+----------+------+\n",
      "\n"
     ]
    }
   ],
   "source": [
    "df_pyspark.fillna(10,['age','experience','salary']).show()"
   ]
  },
  {
   "cell_type": "markdown",
   "id": "bc7715f8",
   "metadata": {},
   "source": [
    "<b style=\"color: #3498db; font-size: 18px;\">IMPUTER FUNCTION TO FILL NULL VALUES</b>\n"
   ]
  },
  {
   "cell_type": "code",
   "execution_count": 12,
   "id": "bedb47b4",
   "metadata": {},
   "outputs": [],
   "source": [
    "from pyspark.ml.feature import Imputer\n",
    "imputer=Imputer(\n",
    "    inputCols=['Age','Experience','Salary'],\n",
    "    outputCols=[\"{}_imputed\".format(c) for c in ['Age','Experience','Salary']]\n",
    ").setStrategy('mean')"
   ]
  },
  {
   "cell_type": "code",
   "execution_count": 13,
   "id": "99f473f2",
   "metadata": {},
   "outputs": [
    {
     "name": "stdout",
     "output_type": "stream",
     "text": [
      "+---------+----+----------+------+-----------+------------------+--------------+\n",
      "|     Name| Age|Experience|Salary|Age_imputed|Experience_imputed|Salary_imputed|\n",
      "+---------+----+----------+------+-----------+------------------+--------------+\n",
      "|    Krish|  31|        10| 30000|         31|                10|         30000|\n",
      "|Subhanshu|  30|         8| 25000|         30|                 8|         25000|\n",
      "|    Sunny|  29|         7| 20000|         29|                 7|         20000|\n",
      "|     Paul|  24|         6| 20000|         24|                 6|         20000|\n",
      "|   Harsha|  21|         4| 15000|         21|                 4|         15000|\n",
      "|  Shubham|  23|         5| 18000|         23|                 5|         18000|\n",
      "|   Mahesh|null|      null| 40000|         28|                 7|         40000|\n",
      "|     null|  34|        10| 38000|         34|                10|         38000|\n",
      "|     null|  36|      null|  null|         36|                 7|         25750|\n",
      "+---------+----+----------+------+-----------+------------------+--------------+\n",
      "\n"
     ]
    }
   ],
   "source": [
    "imputer.fit(df_pyspark).transform(df_pyspark).show()"
   ]
  },
  {
   "cell_type": "code",
   "execution_count": null,
   "id": "d87ce638",
   "metadata": {},
   "outputs": [],
   "source": []
  }
 ],
 "metadata": {
  "kernelspec": {
   "display_name": "Python 3 (ipykernel)",
   "language": "python",
   "name": "python3"
  },
  "language_info": {
   "codemirror_mode": {
    "name": "ipython",
    "version": 3
   },
   "file_extension": ".py",
   "mimetype": "text/x-python",
   "name": "python",
   "nbconvert_exporter": "python",
   "pygments_lexer": "ipython3",
   "version": "3.9.7"
  }
 },
 "nbformat": 4,
 "nbformat_minor": 5
}
