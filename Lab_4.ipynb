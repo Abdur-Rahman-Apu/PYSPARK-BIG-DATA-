{
 "cells": [
  {
   "cell_type": "code",
   "execution_count": 1,
   "id": "92ded1e9",
   "metadata": {},
   "outputs": [],
   "source": [
    "import findspark"
   ]
  },
  {
   "cell_type": "code",
   "execution_count": 2,
   "id": "1181539f",
   "metadata": {},
   "outputs": [],
   "source": [
    "findspark.init()"
   ]
  },
  {
   "cell_type": "code",
   "execution_count": 3,
   "id": "f0320079",
   "metadata": {},
   "outputs": [],
   "source": [
    "import pyspark"
   ]
  },
  {
   "cell_type": "code",
   "execution_count": 4,
   "id": "f4b18fde",
   "metadata": {},
   "outputs": [],
   "source": [
    "from pyspark.sql import SparkSession,SQLContext\n",
    "from pyspark.context import SparkContext\n",
    "import pandas as pd\n",
    "import numpy as np\n",
    "from pyspark.sql.functions import *"
   ]
  },
  {
   "cell_type": "code",
   "execution_count": 5,
   "id": "0c09e5ec",
   "metadata": {},
   "outputs": [],
   "source": [
    "spark=SparkSession.builder.appName('Covid-Example').getOrCreate()"
   ]
  },
  {
   "cell_type": "code",
   "execution_count": 6,
   "id": "9018f843",
   "metadata": {},
   "outputs": [
    {
     "data": {
      "text/html": [
       "\n",
       "            <div>\n",
       "                <p><b>SparkSession - in-memory</b></p>\n",
       "                \n",
       "        <div>\n",
       "            <p><b>SparkContext</b></p>\n",
       "\n",
       "            <p><a href=\"http://DESKTOP-9P30N8Q:4040\">Spark UI</a></p>\n",
       "\n",
       "            <dl>\n",
       "              <dt>Version</dt>\n",
       "                <dd><code>v3.2.1</code></dd>\n",
       "              <dt>Master</dt>\n",
       "                <dd><code>local[*]</code></dd>\n",
       "              <dt>AppName</dt>\n",
       "                <dd><code>Covid-Example</code></dd>\n",
       "            </dl>\n",
       "        </div>\n",
       "        \n",
       "            </div>\n",
       "        "
      ],
      "text/plain": [
       "<pyspark.sql.session.SparkSession at 0x218e241a520>"
      ]
     },
     "execution_count": 6,
     "metadata": {},
     "output_type": "execute_result"
    }
   ],
   "source": [
    "spark"
   ]
  },
  {
   "cell_type": "code",
   "execution_count": 7,
   "id": "29ca32a2",
   "metadata": {},
   "outputs": [
    {
     "name": "stdout",
     "output_type": "stream",
     "text": [
      "+--------+--------+---------------+-----+--------------------+---------+---------+----------+\n",
      "| case_id|province|           city|group|      infection_case|confirmed| latitude| longitude|\n",
      "+--------+--------+---------------+-----+--------------------+---------+---------+----------+\n",
      "| 1000001|   Seoul|     Yongsan-gu| true|       Itaewon Clubs|      139|37.538621|126.992652|\n",
      "| 1000002|   Seoul|      Gwanak-gu| true|             Richway|      119| 37.48208|126.901384|\n",
      "| 1000003|   Seoul|        Guro-gu| true| Guro-gu Call Center|       95|37.508163|126.884387|\n",
      "| 1000004|   Seoul|   Yangcheon-gu| true|Yangcheon Table T...|       43|37.546061|126.874209|\n",
      "| 1000005|   Seoul|      Dobong-gu| true|     Day Care Center|       43|37.679422|127.044374|\n",
      "| 1000006|   Seoul|        Guro-gu| true|Manmin Central Ch...|       41|37.481059|126.894343|\n",
      "| 1000007|   Seoul|from other city| true|SMR Newly Planted...|       36|        -|         -|\n",
      "| 1000008|   Seoul|  Dongdaemun-gu| true|       Dongan Church|       17|37.592888|127.056766|\n",
      "| 1000009|   Seoul|from other city| true|Coupang Logistics...|       25|        -|         -|\n",
      "| 1000010|   Seoul|      Gwanak-gu| true|     Wangsung Church|       30|37.481735|126.930121|\n",
      "| 1000011|   Seoul|   Eunpyeong-gu| true|Eunpyeong St. Mar...|       14| 37.63369|  126.9165|\n",
      "| 1000012|   Seoul|   Seongdong-gu| true|    Seongdong-gu APT|       13| 37.55713|  127.0403|\n",
      "| 1000013|   Seoul|      Jongno-gu| true|Jongno Community ...|       10| 37.57681|   127.006|\n",
      "| 1000014|   Seoul|     Gangnam-gu| true|Samsung Medical C...|        7| 37.48825| 127.08559|\n",
      "| 1000015|   Seoul|        Jung-gu| true|Jung-gu Fashion C...|        7|37.562405|126.984377|\n",
      "| 1000016|   Seoul|   Seodaemun-gu| true|  Yeonana News Class|        5|37.558147|126.943799|\n",
      "| 1000017|   Seoul|      Jongno-gu| true|Korea Campus Crus...|        7|37.594782|126.968022|\n",
      "| 1000018|   Seoul|     Gangnam-gu| true|Gangnam Yeoksam-d...|        6|        -|         -|\n",
      "| 1000019|   Seoul|from other city| true|Daejeon door-to-d...|        1|        -|         -|\n",
      "| 1000020|   Seoul|   Geumcheon-gu| true|Geumcheon-gu rice...|        6|        -|         -|\n",
      "+--------+--------+---------------+-----+--------------------+---------+---------+----------+\n",
      "only showing top 20 rows\n",
      "\n"
     ]
    }
   ],
   "source": [
    "cases=spark.read.load(\"./Case.csv\",format=\"csv\",inferSchema=True,Header=True)\n",
    "cases.show()"
   ]
  },
  {
   "cell_type": "code",
   "execution_count": 8,
   "id": "370fba0e",
   "metadata": {},
   "outputs": [
    {
     "data": {
      "text/html": [
       "<div>\n",
       "<style scoped>\n",
       "    .dataframe tbody tr th:only-of-type {\n",
       "        vertical-align: middle;\n",
       "    }\n",
       "\n",
       "    .dataframe tbody tr th {\n",
       "        vertical-align: top;\n",
       "    }\n",
       "\n",
       "    .dataframe thead th {\n",
       "        text-align: right;\n",
       "    }\n",
       "</style>\n",
       "<table border=\"1\" class=\"dataframe\">\n",
       "  <thead>\n",
       "    <tr style=\"text-align: right;\">\n",
       "      <th></th>\n",
       "      <th>case_id</th>\n",
       "      <th>province</th>\n",
       "      <th>city</th>\n",
       "      <th>group</th>\n",
       "      <th>infection_case</th>\n",
       "      <th>confirmed</th>\n",
       "      <th>latitude</th>\n",
       "      <th>longitude</th>\n",
       "    </tr>\n",
       "  </thead>\n",
       "  <tbody>\n",
       "    <tr>\n",
       "      <th>0</th>\n",
       "      <td>1000001</td>\n",
       "      <td>Seoul</td>\n",
       "      <td>Yongsan-gu</td>\n",
       "      <td>True</td>\n",
       "      <td>Itaewon Clubs</td>\n",
       "      <td>139</td>\n",
       "      <td>37.538621</td>\n",
       "      <td>126.992652</td>\n",
       "    </tr>\n",
       "    <tr>\n",
       "      <th>1</th>\n",
       "      <td>1000002</td>\n",
       "      <td>Seoul</td>\n",
       "      <td>Gwanak-gu</td>\n",
       "      <td>True</td>\n",
       "      <td>Richway</td>\n",
       "      <td>119</td>\n",
       "      <td>37.48208</td>\n",
       "      <td>126.901384</td>\n",
       "    </tr>\n",
       "    <tr>\n",
       "      <th>2</th>\n",
       "      <td>1000003</td>\n",
       "      <td>Seoul</td>\n",
       "      <td>Guro-gu</td>\n",
       "      <td>True</td>\n",
       "      <td>Guro-gu Call Center</td>\n",
       "      <td>95</td>\n",
       "      <td>37.508163</td>\n",
       "      <td>126.884387</td>\n",
       "    </tr>\n",
       "    <tr>\n",
       "      <th>3</th>\n",
       "      <td>1000004</td>\n",
       "      <td>Seoul</td>\n",
       "      <td>Yangcheon-gu</td>\n",
       "      <td>True</td>\n",
       "      <td>Yangcheon Table Tennis Club</td>\n",
       "      <td>43</td>\n",
       "      <td>37.546061</td>\n",
       "      <td>126.874209</td>\n",
       "    </tr>\n",
       "    <tr>\n",
       "      <th>4</th>\n",
       "      <td>1000005</td>\n",
       "      <td>Seoul</td>\n",
       "      <td>Dobong-gu</td>\n",
       "      <td>True</td>\n",
       "      <td>Day Care Center</td>\n",
       "      <td>43</td>\n",
       "      <td>37.679422</td>\n",
       "      <td>127.044374</td>\n",
       "    </tr>\n",
       "    <tr>\n",
       "      <th>5</th>\n",
       "      <td>1000006</td>\n",
       "      <td>Seoul</td>\n",
       "      <td>Guro-gu</td>\n",
       "      <td>True</td>\n",
       "      <td>Manmin Central Church</td>\n",
       "      <td>41</td>\n",
       "      <td>37.481059</td>\n",
       "      <td>126.894343</td>\n",
       "    </tr>\n",
       "    <tr>\n",
       "      <th>6</th>\n",
       "      <td>1000007</td>\n",
       "      <td>Seoul</td>\n",
       "      <td>from other city</td>\n",
       "      <td>True</td>\n",
       "      <td>SMR Newly Planted Churches Group</td>\n",
       "      <td>36</td>\n",
       "      <td>-</td>\n",
       "      <td>-</td>\n",
       "    </tr>\n",
       "    <tr>\n",
       "      <th>7</th>\n",
       "      <td>1000008</td>\n",
       "      <td>Seoul</td>\n",
       "      <td>Dongdaemun-gu</td>\n",
       "      <td>True</td>\n",
       "      <td>Dongan Church</td>\n",
       "      <td>17</td>\n",
       "      <td>37.592888</td>\n",
       "      <td>127.056766</td>\n",
       "    </tr>\n",
       "    <tr>\n",
       "      <th>8</th>\n",
       "      <td>1000009</td>\n",
       "      <td>Seoul</td>\n",
       "      <td>from other city</td>\n",
       "      <td>True</td>\n",
       "      <td>Coupang Logistics Center</td>\n",
       "      <td>25</td>\n",
       "      <td>-</td>\n",
       "      <td>-</td>\n",
       "    </tr>\n",
       "    <tr>\n",
       "      <th>9</th>\n",
       "      <td>1000010</td>\n",
       "      <td>Seoul</td>\n",
       "      <td>Gwanak-gu</td>\n",
       "      <td>True</td>\n",
       "      <td>Wangsung Church</td>\n",
       "      <td>30</td>\n",
       "      <td>37.481735</td>\n",
       "      <td>126.930121</td>\n",
       "    </tr>\n",
       "  </tbody>\n",
       "</table>\n",
       "</div>"
      ],
      "text/plain": [
       "    case_id province             city  group  \\\n",
       "0   1000001    Seoul       Yongsan-gu   True   \n",
       "1   1000002    Seoul        Gwanak-gu   True   \n",
       "2   1000003    Seoul          Guro-gu   True   \n",
       "3   1000004    Seoul     Yangcheon-gu   True   \n",
       "4   1000005    Seoul        Dobong-gu   True   \n",
       "5   1000006    Seoul          Guro-gu   True   \n",
       "6   1000007    Seoul  from other city   True   \n",
       "7   1000008    Seoul    Dongdaemun-gu   True   \n",
       "8   1000009    Seoul  from other city   True   \n",
       "9   1000010    Seoul        Gwanak-gu   True   \n",
       "\n",
       "                     infection_case  confirmed   latitude   longitude  \n",
       "0                     Itaewon Clubs        139  37.538621  126.992652  \n",
       "1                           Richway        119   37.48208  126.901384  \n",
       "2               Guro-gu Call Center         95  37.508163  126.884387  \n",
       "3       Yangcheon Table Tennis Club         43  37.546061  126.874209  \n",
       "4                   Day Care Center         43  37.679422  127.044374  \n",
       "5             Manmin Central Church         41  37.481059  126.894343  \n",
       "6  SMR Newly Planted Churches Group         36          -           -  \n",
       "7                     Dongan Church         17  37.592888  127.056766  \n",
       "8          Coupang Logistics Center         25          -           -  \n",
       "9                   Wangsung Church         30  37.481735  126.930121  "
      ]
     },
     "execution_count": 8,
     "metadata": {},
     "output_type": "execute_result"
    }
   ],
   "source": [
    "cases.limit(10).toPandas()"
   ]
  },
  {
   "cell_type": "code",
   "execution_count": 9,
   "id": "b169d087",
   "metadata": {},
   "outputs": [
    {
     "name": "stdout",
     "output_type": "stream",
     "text": [
      "+--------+--------+---------------+-----+--------------------+---------+---------+----------+\n",
      "| case_id|province|           city|group|    infection_source|confirmed| latitude| longitude|\n",
      "+--------+--------+---------------+-----+--------------------+---------+---------+----------+\n",
      "| 1000001|   Seoul|     Yongsan-gu| true|       Itaewon Clubs|      139|37.538621|126.992652|\n",
      "| 1000002|   Seoul|      Gwanak-gu| true|             Richway|      119| 37.48208|126.901384|\n",
      "| 1000003|   Seoul|        Guro-gu| true| Guro-gu Call Center|       95|37.508163|126.884387|\n",
      "| 1000004|   Seoul|   Yangcheon-gu| true|Yangcheon Table T...|       43|37.546061|126.874209|\n",
      "| 1000005|   Seoul|      Dobong-gu| true|     Day Care Center|       43|37.679422|127.044374|\n",
      "| 1000006|   Seoul|        Guro-gu| true|Manmin Central Ch...|       41|37.481059|126.894343|\n",
      "| 1000007|   Seoul|from other city| true|SMR Newly Planted...|       36|        -|         -|\n",
      "| 1000008|   Seoul|  Dongdaemun-gu| true|       Dongan Church|       17|37.592888|127.056766|\n",
      "| 1000009|   Seoul|from other city| true|Coupang Logistics...|       25|        -|         -|\n",
      "| 1000010|   Seoul|      Gwanak-gu| true|     Wangsung Church|       30|37.481735|126.930121|\n",
      "| 1000011|   Seoul|   Eunpyeong-gu| true|Eunpyeong St. Mar...|       14| 37.63369|  126.9165|\n",
      "| 1000012|   Seoul|   Seongdong-gu| true|    Seongdong-gu APT|       13| 37.55713|  127.0403|\n",
      "| 1000013|   Seoul|      Jongno-gu| true|Jongno Community ...|       10| 37.57681|   127.006|\n",
      "| 1000014|   Seoul|     Gangnam-gu| true|Samsung Medical C...|        7| 37.48825| 127.08559|\n",
      "| 1000015|   Seoul|        Jung-gu| true|Jung-gu Fashion C...|        7|37.562405|126.984377|\n",
      "| 1000016|   Seoul|   Seodaemun-gu| true|  Yeonana News Class|        5|37.558147|126.943799|\n",
      "| 1000017|   Seoul|      Jongno-gu| true|Korea Campus Crus...|        7|37.594782|126.968022|\n",
      "| 1000018|   Seoul|     Gangnam-gu| true|Gangnam Yeoksam-d...|        6|        -|         -|\n",
      "| 1000019|   Seoul|from other city| true|Daejeon door-to-d...|        1|        -|         -|\n",
      "| 1000020|   Seoul|   Geumcheon-gu| true|Geumcheon-gu rice...|        6|        -|         -|\n",
      "+--------+--------+---------------+-----+--------------------+---------+---------+----------+\n",
      "only showing top 20 rows\n",
      "\n"
     ]
    }
   ],
   "source": [
    "cases.withColumnRenamed(\"infection_case\",\"infection_source\").show()"
   ]
  },
  {
   "cell_type": "code",
   "execution_count": 10,
   "id": "dd4d2566",
   "metadata": {},
   "outputs": [
    {
     "name": "stdout",
     "output_type": "stream",
     "text": [
      "+-------+--------+---------------+-----+--------------------+---------+---------+----------+\n",
      "|case_id|province|           city|group|    infection_source|confirmed| latitude| longitude|\n",
      "+-------+--------+---------------+-----+--------------------+---------+---------+----------+\n",
      "|1000001|   Seoul|     Yongsan-gu| true|       Itaewon Clubs|      139|37.538621|126.992652|\n",
      "|1000002|   Seoul|      Gwanak-gu| true|             Richway|      119| 37.48208|126.901384|\n",
      "|1000003|   Seoul|        Guro-gu| true| Guro-gu Call Center|       95|37.508163|126.884387|\n",
      "|1000004|   Seoul|   Yangcheon-gu| true|Yangcheon Table T...|       43|37.546061|126.874209|\n",
      "|1000005|   Seoul|      Dobong-gu| true|     Day Care Center|       43|37.679422|127.044374|\n",
      "|1000006|   Seoul|        Guro-gu| true|Manmin Central Ch...|       41|37.481059|126.894343|\n",
      "|1000007|   Seoul|from other city| true|SMR Newly Planted...|       36|        -|         -|\n",
      "|1000008|   Seoul|  Dongdaemun-gu| true|       Dongan Church|       17|37.592888|127.056766|\n",
      "|1000009|   Seoul|from other city| true|Coupang Logistics...|       25|        -|         -|\n",
      "|1000010|   Seoul|      Gwanak-gu| true|     Wangsung Church|       30|37.481735|126.930121|\n",
      "|1000011|   Seoul|   Eunpyeong-gu| true|Eunpyeong St. Mar...|       14| 37.63369|  126.9165|\n",
      "|1000012|   Seoul|   Seongdong-gu| true|    Seongdong-gu APT|       13| 37.55713|  127.0403|\n",
      "|1000013|   Seoul|      Jongno-gu| true|Jongno Community ...|       10| 37.57681|   127.006|\n",
      "|1000014|   Seoul|     Gangnam-gu| true|Samsung Medical C...|        7| 37.48825| 127.08559|\n",
      "|1000015|   Seoul|        Jung-gu| true|Jung-gu Fashion C...|        7|37.562405|126.984377|\n",
      "|1000016|   Seoul|   Seodaemun-gu| true|  Yeonana News Class|        5|37.558147|126.943799|\n",
      "|1000017|   Seoul|      Jongno-gu| true|Korea Campus Crus...|        7|37.594782|126.968022|\n",
      "|1000018|   Seoul|     Gangnam-gu| true|Gangnam Yeoksam-d...|        6|        -|         -|\n",
      "|1000019|   Seoul|from other city| true|Daejeon door-to-d...|        1|        -|         -|\n",
      "|1000020|   Seoul|   Geumcheon-gu| true|Geumcheon-gu rice...|        6|        -|         -|\n",
      "+-------+--------+---------------+-----+--------------------+---------+---------+----------+\n",
      "only showing top 20 rows\n",
      "\n"
     ]
    }
   ],
   "source": [
    "cases=cases.toDF(*['case_id','province','city','group','infection_source','confirmed','latitude','longitude'])\n",
    "cases.show()"
   ]
  },
  {
   "cell_type": "code",
   "execution_count": 11,
   "id": "71837075",
   "metadata": {},
   "outputs": [
    {
     "data": {
      "text/plain": [
       "pyspark.sql.dataframe.DataFrame"
      ]
     },
     "execution_count": 11,
     "metadata": {},
     "output_type": "execute_result"
    }
   ],
   "source": [
    "type(cases)"
   ]
  },
  {
   "cell_type": "code",
   "execution_count": 12,
   "id": "992886b3",
   "metadata": {},
   "outputs": [
    {
     "name": "stdout",
     "output_type": "stream",
     "text": [
      "+-------+--------+---------------+---------+\n",
      "|case_id|province|           city|confirmed|\n",
      "+-------+--------+---------------+---------+\n",
      "|1000001|   Seoul|     Yongsan-gu|      139|\n",
      "|1000002|   Seoul|      Gwanak-gu|      119|\n",
      "|1000003|   Seoul|        Guro-gu|       95|\n",
      "|1000004|   Seoul|   Yangcheon-gu|       43|\n",
      "|1000005|   Seoul|      Dobong-gu|       43|\n",
      "|1000006|   Seoul|        Guro-gu|       41|\n",
      "|1000007|   Seoul|from other city|       36|\n",
      "|1000008|   Seoul|  Dongdaemun-gu|       17|\n",
      "|1000009|   Seoul|from other city|       25|\n",
      "|1000010|   Seoul|      Gwanak-gu|       30|\n",
      "|1000011|   Seoul|   Eunpyeong-gu|       14|\n",
      "|1000012|   Seoul|   Seongdong-gu|       13|\n",
      "|1000013|   Seoul|      Jongno-gu|       10|\n",
      "|1000014|   Seoul|     Gangnam-gu|        7|\n",
      "|1000015|   Seoul|        Jung-gu|        7|\n",
      "|1000016|   Seoul|   Seodaemun-gu|        5|\n",
      "|1000017|   Seoul|      Jongno-gu|        7|\n",
      "|1000018|   Seoul|     Gangnam-gu|        6|\n",
      "|1000019|   Seoul|from other city|        1|\n",
      "|1000020|   Seoul|   Geumcheon-gu|        6|\n",
      "+-------+--------+---------------+---------+\n",
      "only showing top 20 rows\n",
      "\n"
     ]
    }
   ],
   "source": [
    "cases=cases.select(['case_id','province','city','confirmed'])\n",
    "cases.show()"
   ]
  },
  {
   "cell_type": "code",
   "execution_count": 13,
   "id": "965e71da",
   "metadata": {},
   "outputs": [
    {
     "name": "stdout",
     "output_type": "stream",
     "text": [
      "+-------+-----------------+---------------+---------+\n",
      "|case_id|         province|           city|confirmed|\n",
      "+-------+-----------------+---------------+---------+\n",
      "|7000002|          Jeju-do|              -|        0|\n",
      "|3000007|       Gangwon-do|              -|        0|\n",
      "|1000030|            Seoul|     Gangseo-gu|        0|\n",
      "|1100007|            Busan|from other city|        1|\n",
      "|5000003|     Jeollabuk-do|from other city|        1|\n",
      "|1000028|            Seoul|from other city|        1|\n",
      "|1000025|            Seoul|     Gangnam-gu|        1|\n",
      "|1700003|           Sejong|from other city|        1|\n",
      "|5100002|     Jeollanam-do|from other city|        1|\n",
      "|7000004|          Jeju-do|from other city|        1|\n",
      "|1000019|            Seoul|from other city|        1|\n",
      "|1000034|            Seoul|              -|        1|\n",
      "|1700006|           Sejong|              -|        1|\n",
      "|1300005|          Gwangju|              -|        1|\n",
      "|1200006|            Daegu|from other city|        2|\n",
      "|1200007|            Daegu|from other city|        2|\n",
      "|1400004|          Incheon|from other city|        2|\n",
      "|1000033|            Seoul|from other city|        2|\n",
      "|1500006|          Daejeon|from other city|        2|\n",
      "|4000003|Chungcheongbuk-do|from other city|        2|\n",
      "+-------+-----------------+---------------+---------+\n",
      "only showing top 20 rows\n",
      "\n"
     ]
    }
   ],
   "source": [
    "cases.sort('confirmed').show()"
   ]
  },
  {
   "cell_type": "code",
   "execution_count": 14,
   "id": "2bc5cc9c",
   "metadata": {},
   "outputs": [
    {
     "name": "stdout",
     "output_type": "stream",
     "text": [
      "+-------+-----------------+---------------+---------+\n",
      "|case_id|         province|           city|confirmed|\n",
      "+-------+-----------------+---------------+---------+\n",
      "|1200001|            Daegu|         Nam-gu|     4511|\n",
      "|1200009|            Daegu|              -|      917|\n",
      "|1200010|            Daegu|              -|      747|\n",
      "|6000001| Gyeongsangbuk-do|from other city|      566|\n",
      "|2000020|      Gyeonggi-do|              -|      305|\n",
      "|1000036|            Seoul|              -|      298|\n",
      "|1200002|            Daegu|   Dalseong-gun|      196|\n",
      "|6000012| Gyeongsangbuk-do|              -|      190|\n",
      "|1000037|            Seoul|              -|      162|\n",
      "|1000001|            Seoul|     Yongsan-gu|      139|\n",
      "|6000013| Gyeongsangbuk-do|              -|      133|\n",
      "|1200003|            Daegu|         Seo-gu|      124|\n",
      "|1000002|            Seoul|      Gwanak-gu|      119|\n",
      "|6000002| Gyeongsangbuk-do|   Cheongdo-gun|      119|\n",
      "|4100001|Chungcheongnam-do|     Cheonan-si|      103|\n",
      "|1200004|            Daegu|   Dalseong-gun|      101|\n",
      "|1000038|            Seoul|              -|      100|\n",
      "|1000003|            Seoul|        Guro-gu|       95|\n",
      "|2000022|      Gyeonggi-do|              -|       84|\n",
      "|1400005|          Incheon|              -|       68|\n",
      "+-------+-----------------+---------------+---------+\n",
      "only showing top 20 rows\n",
      "\n"
     ]
    }
   ],
   "source": [
    "from pyspark.sql import functions as F\n",
    "cases.sort(F.desc('confirmed')).show()"
   ]
  },
  {
   "cell_type": "code",
   "execution_count": 15,
   "id": "3bd97b38",
   "metadata": {},
   "outputs": [],
   "source": [
    "from pyspark.sql.types import IntegerType,FloatType,StringType"
   ]
  },
  {
   "cell_type": "code",
   "execution_count": 16,
   "id": "58637e4b",
   "metadata": {},
   "outputs": [
    {
     "name": "stdout",
     "output_type": "stream",
     "text": [
      "+-------+--------+---------------+---------+\n",
      "|case_id|province|           city|confirmed|\n",
      "+-------+--------+---------------+---------+\n",
      "|1000001|   Seoul|     Yongsan-gu|      139|\n",
      "|1000002|   Seoul|      Gwanak-gu|      119|\n",
      "|1000003|   Seoul|        Guro-gu|       95|\n",
      "|1000004|   Seoul|   Yangcheon-gu|       43|\n",
      "|1000005|   Seoul|      Dobong-gu|       43|\n",
      "|1000006|   Seoul|        Guro-gu|       41|\n",
      "|1000007|   Seoul|from other city|       36|\n",
      "|1000008|   Seoul|  Dongdaemun-gu|       17|\n",
      "|1000009|   Seoul|from other city|       25|\n",
      "|1000010|   Seoul|      Gwanak-gu|       30|\n",
      "|1000011|   Seoul|   Eunpyeong-gu|       14|\n",
      "|1000012|   Seoul|   Seongdong-gu|       13|\n",
      "|1000013|   Seoul|      Jongno-gu|       10|\n",
      "|1000014|   Seoul|     Gangnam-gu|        7|\n",
      "|1000015|   Seoul|        Jung-gu|        7|\n",
      "|1000016|   Seoul|   Seodaemun-gu|        5|\n",
      "|1000017|   Seoul|      Jongno-gu|        7|\n",
      "|1000018|   Seoul|     Gangnam-gu|        6|\n",
      "|1000019|   Seoul|from other city|        1|\n",
      "|1000020|   Seoul|   Geumcheon-gu|        6|\n",
      "+-------+--------+---------------+---------+\n",
      "only showing top 20 rows\n",
      "\n"
     ]
    }
   ],
   "source": [
    "cases=cases.withColumn('confirmed',F.column('confirmed').cast(IntegerType()))\n",
    "cases.show()"
   ]
  },
  {
   "cell_type": "code",
   "execution_count": 17,
   "id": "57375e79",
   "metadata": {},
   "outputs": [
    {
     "name": "stdout",
     "output_type": "stream",
     "text": [
      "+-------+--------+---------------+---------+\n",
      "|case_id|province|           city|confirmed|\n",
      "+-------+--------+---------------+---------+\n",
      "|1000001|   Seoul|     Yongsan-gu|      139|\n",
      "|1000002|   Seoul|      Gwanak-gu|      119|\n",
      "|1000003|   Seoul|        Guro-gu|       95|\n",
      "|1000004|   Seoul|   Yangcheon-gu|       43|\n",
      "|1000005|   Seoul|      Dobong-gu|       43|\n",
      "|1000006|   Seoul|        Guro-gu|       41|\n",
      "|1000007|   Seoul|from other city|       36|\n",
      "|1000008|   Seoul|  Dongdaemun-gu|       17|\n",
      "|1000009|   Seoul|from other city|       25|\n",
      "|1000010|   Seoul|      Gwanak-gu|       30|\n",
      "|1000011|   Seoul|   Eunpyeong-gu|       14|\n",
      "|1000012|   Seoul|   Seongdong-gu|       13|\n",
      "|1000013|   Seoul|      Jongno-gu|       10|\n",
      "|1000014|   Seoul|     Gangnam-gu|        7|\n",
      "|1000015|   Seoul|        Jung-gu|        7|\n",
      "|1000016|   Seoul|   Seodaemun-gu|        5|\n",
      "|1000017|   Seoul|      Jongno-gu|        7|\n",
      "|1000018|   Seoul|     Gangnam-gu|        6|\n",
      "|1000019|   Seoul|from other city|        1|\n",
      "|1000020|   Seoul|   Geumcheon-gu|        6|\n",
      "+-------+--------+---------------+---------+\n",
      "only showing top 20 rows\n",
      "\n"
     ]
    }
   ],
   "source": [
    "cases=cases.withColumn('city',F.column('city').cast(StringType()))\n",
    "cases.show()"
   ]
  },
  {
   "cell_type": "code",
   "execution_count": 18,
   "id": "cb79fc1c",
   "metadata": {},
   "outputs": [
    {
     "name": "stdout",
     "output_type": "stream",
     "text": [
      "root\n",
      " |-- case_id: integer (nullable = true)\n",
      " |-- province: string (nullable = true)\n",
      " |-- city: string (nullable = true)\n",
      " |-- confirmed: integer (nullable = true)\n",
      "\n"
     ]
    }
   ],
   "source": [
    "cases.printSchema()"
   ]
  },
  {
   "cell_type": "code",
   "execution_count": 19,
   "id": "677342a5",
   "metadata": {},
   "outputs": [
    {
     "name": "stdout",
     "output_type": "stream",
     "text": [
      "+-------+--------+----------+---------+\n",
      "|case_id|province|      city|confirmed|\n",
      "+-------+--------+----------+---------+\n",
      "|1000001|   Seoul|Yongsan-gu|      139|\n",
      "+-------+--------+----------+---------+\n",
      "\n"
     ]
    }
   ],
   "source": [
    "cases.filter((cases.confirmed>0) & (cases.city=='Yongsan-gu')).show()"
   ]
  },
  {
   "cell_type": "code",
   "execution_count": 20,
   "id": "d089dc52",
   "metadata": {},
   "outputs": [
    {
     "name": "stdout",
     "output_type": "stream",
     "text": [
      "+----------------+---------------+---------------+-----------------+\n",
      "|        province|           city|Total confirmed|Maximum confirmed|\n",
      "+----------------+---------------+---------------+-----------------+\n",
      "|Gyeongsangnam-do|       Jinju-si|              9|                9|\n",
      "|           Seoul|        Guro-gu|            139|               95|\n",
      "|           Seoul|     Gangnam-gu|             18|                7|\n",
      "|         Daejeon|              -|            100|               55|\n",
      "|    Jeollabuk-do|from other city|              6|                3|\n",
      "|Gyeongsangnam-do|Changnyeong-gun|              7|                7|\n",
      "|           Seoul|              -|            561|              298|\n",
      "|         Jeju-do|from other city|              1|                1|\n",
      "|Gyeongsangbuk-do|              -|            345|              190|\n",
      "|Gyeongsangnam-do|   Geochang-gun|             18|               10|\n",
      "|Gyeongsangbuk-do|        Gumi-si|             10|               10|\n",
      "|         Incheon|from other city|            117|               53|\n",
      "|           Busan|              -|             85|               36|\n",
      "|           Daegu|         Seo-gu|            124|              124|\n",
      "|           Busan|     Suyeong-gu|              5|                5|\n",
      "|     Gyeonggi-do|   Uijeongbu-si|             50|               50|\n",
      "|           Seoul|     Yongsan-gu|            139|              139|\n",
      "|           Daegu|              -|           1705|              917|\n",
      "|           Seoul|   Seodaemun-gu|              5|                5|\n",
      "|     Gyeonggi-do|    Seongnam-si|             94|               67|\n",
      "+----------------+---------------+---------------+-----------------+\n",
      "only showing top 20 rows\n",
      "\n"
     ]
    }
   ],
   "source": [
    "cases.groupBy(['province','city']).agg(F.sum('confirmed').alias('Total confirmed'),F.max('confirmed').alias('Maximum confirmed')).show()"
   ]
  },
  {
   "cell_type": "code",
   "execution_count": 22,
   "id": "e70f4857",
   "metadata": {},
   "outputs": [
    {
     "name": "stdout",
     "output_type": "stream",
     "text": [
      "+-----+--------+-------------+---------+----------+-----------------------+------------------+----------------+-------------+------------------------+-------------------+------------------+\n",
      "| code|province|         city| latitude| longitude|elementary_school_count|kindergarten_count|university_count|academy_ratio|elderly_population_ratio|elderly_alone_ratio|nursing_home_count|\n",
      "+-----+--------+-------------+---------+----------+-----------------------+------------------+----------------+-------------+------------------------+-------------------+------------------+\n",
      "|10000|   Seoul|        Seoul|37.566953|126.977977|                    607|               830|              48|         1.44|                   15.38|                5.8|             22739|\n",
      "|10010|   Seoul|   Gangnam-gu|37.518421|127.047222|                     33|                38|               0|         4.18|                   13.17|                4.3|              3088|\n",
      "|10020|   Seoul|  Gangdong-gu|37.530492|127.123837|                     27|                32|               0|         1.54|                   14.55|                5.4|              1023|\n",
      "|10030|   Seoul|   Gangbuk-gu|37.639938|127.025508|                     14|                21|               0|         0.67|                   19.49|                8.5|               628|\n",
      "|10040|   Seoul|   Gangseo-gu|37.551166|126.849506|                     36|                56|               1|         1.17|                   14.39|                5.7|              1080|\n",
      "|10050|   Seoul|    Gwanak-gu| 37.47829|126.951502|                     22|                33|               1|         0.89|                   15.12|                4.9|               909|\n",
      "|10060|   Seoul|  Gwangjin-gu|37.538712|127.082366|                     22|                33|               3|         1.16|                   13.75|                4.8|               723|\n",
      "|10070|   Seoul|      Guro-gu|37.495632| 126.88765|                     26|                34|               3|          1.0|                   16.21|                5.7|               741|\n",
      "|10080|   Seoul| Geumcheon-gu|37.456852|126.895229|                     18|                19|               0|         0.96|                   16.15|                6.7|               475|\n",
      "|10090|   Seoul|     Nowon-gu|37.654259|127.056294|                     42|                66|               6|         1.39|                    15.4|                7.4|               952|\n",
      "|10100|   Seoul|    Dobong-gu|37.668952|127.047082|                     23|                26|               1|         0.95|                   17.89|                7.2|               485|\n",
      "|10110|   Seoul|Dongdaemun-gu|37.574552|127.039721|                     21|                31|               4|         1.06|                   17.26|                6.7|               832|\n",
      "|10120|   Seoul|   Dongjak-gu|37.510571|126.963604|                     21|                34|               3|         1.17|                   15.85|                5.2|               762|\n",
      "|10130|   Seoul|      Mapo-gu|37.566283|126.901644|                     22|                24|               2|         1.83|                   14.05|                4.9|               929|\n",
      "|10140|   Seoul| Seodaemun-gu|37.579428|126.936771|                     19|                25|               6|         1.12|                   16.77|                6.2|               587|\n",
      "|10150|   Seoul|    Seocho-gu|37.483804|127.032693|                     24|                27|               1|          2.6|                   13.39|                3.8|              1465|\n",
      "|10160|   Seoul| Seongdong-gu|37.563277|127.036647|                     21|                30|               2|         0.97|                   14.76|                5.3|               593|\n",
      "|10170|   Seoul|  Seongbuk-gu|37.589562|  127.0167|                     29|                49|               6|         1.02|                   16.15|                6.0|               729|\n",
      "|10180|   Seoul|    Songpa-gu| 37.51462|127.106141|                     40|                51|               1|         1.65|                    13.1|                4.1|              1527|\n",
      "|10190|   Seoul| Yangcheon-gu|37.517189|126.866618|                     30|                43|               0|         2.26|                   13.55|                5.5|               816|\n",
      "+-----+--------+-------------+---------+----------+-----------------------+------------------+----------------+-------------+------------------------+-------------------+------------------+\n",
      "only showing top 20 rows\n",
      "\n"
     ]
    }
   ],
   "source": [
    "region=spark.read.load(\"./Region.csv\",format=\"csv\",inferSchema=True,header=True)\n",
    "region.show()"
   ]
  },
  {
   "cell_type": "code",
   "execution_count": 26,
   "id": "a67803e4",
   "metadata": {},
   "outputs": [
    {
     "name": "stdout",
     "output_type": "stream",
     "text": [
      "+--------+---------------+-------+---------+-----+---------+----------+-----------------------+------------------+----------------+-------------+------------------------+-------------------+------------------+\n",
      "|province|           city|case_id|confirmed| code| latitude| longitude|elementary_school_count|kindergarten_count|university_count|academy_ratio|elderly_population_ratio|elderly_alone_ratio|nursing_home_count|\n",
      "+--------+---------------+-------+---------+-----+---------+----------+-----------------------+------------------+----------------+-------------+------------------------+-------------------+------------------+\n",
      "|   Seoul|     Yongsan-gu|1000001|      139|10210|37.532768|126.990021|                     15|                13|               1|         0.68|                   16.87|                6.5|               435|\n",
      "|   Seoul|      Gwanak-gu|1000002|      119|10050| 37.47829|126.951502|                     22|                33|               1|         0.89|                   15.12|                4.9|               909|\n",
      "|   Seoul|        Guro-gu|1000003|       95|10070|37.495632| 126.88765|                     26|                34|               3|          1.0|                   16.21|                5.7|               741|\n",
      "|   Seoul|   Yangcheon-gu|1000004|       43|10190|37.517189|126.866618|                     30|                43|               0|         2.26|                   13.55|                5.5|               816|\n",
      "|   Seoul|      Dobong-gu|1000005|       43|10100|37.668952|127.047082|                     23|                26|               1|         0.95|                   17.89|                7.2|               485|\n",
      "|   Seoul|        Guro-gu|1000006|       41|10070|37.495632| 126.88765|                     26|                34|               3|          1.0|                   16.21|                5.7|               741|\n",
      "|   Seoul|from other city|1000007|       36| null|     null|      null|                   null|              null|            null|         null|                    null|               null|              null|\n",
      "|   Seoul|  Dongdaemun-gu|1000008|       17|10110|37.574552|127.039721|                     21|                31|               4|         1.06|                   17.26|                6.7|               832|\n",
      "|   Seoul|from other city|1000009|       25| null|     null|      null|                   null|              null|            null|         null|                    null|               null|              null|\n",
      "|   Seoul|      Gwanak-gu|1000010|       30|10050| 37.47829|126.951502|                     22|                33|               1|         0.89|                   15.12|                4.9|               909|\n",
      "|   Seoul|   Eunpyeong-gu|1000011|       14|10220|37.603481|126.929173|                     31|                44|               1|         1.09|                    17.0|                6.5|               874|\n",
      "|   Seoul|   Seongdong-gu|1000012|       13|10160|37.563277|127.036647|                     21|                30|               2|         0.97|                   14.76|                5.3|               593|\n",
      "|   Seoul|      Jongno-gu|1000013|       10|10230|37.572999|126.979189|                     13|                17|               3|         1.71|                   18.27|                6.8|               668|\n",
      "|   Seoul|     Gangnam-gu|1000014|        7|10010|37.518421|127.047222|                     33|                38|               0|         4.18|                   13.17|                4.3|              3088|\n",
      "|   Seoul|        Jung-gu|1000015|        7|10240|37.563988| 126.99753|                     12|                14|               2|         0.94|                   18.42|                7.4|               728|\n",
      "|   Seoul|   Seodaemun-gu|1000016|        5|10140|37.579428|126.936771|                     19|                25|               6|         1.12|                   16.77|                6.2|               587|\n",
      "|   Seoul|      Jongno-gu|1000017|        7|10230|37.572999|126.979189|                     13|                17|               3|         1.71|                   18.27|                6.8|               668|\n",
      "|   Seoul|     Gangnam-gu|1000018|        6|10010|37.518421|127.047222|                     33|                38|               0|         4.18|                   13.17|                4.3|              3088|\n",
      "|   Seoul|from other city|1000019|        1| null|     null|      null|                   null|              null|            null|         null|                    null|               null|              null|\n",
      "|   Seoul|   Geumcheon-gu|1000020|        6|10080|37.456852|126.895229|                     18|                19|               0|         0.96|                   16.15|                6.7|               475|\n",
      "+--------+---------------+-------+---------+-----+---------+----------+-----------------------+------------------+----------------+-------------+------------------------+-------------------+------------------+\n",
      "only showing top 20 rows\n",
      "\n"
     ]
    }
   ],
   "source": [
    "cases=cases.join(region,[\"province\",\"city\"],how=\"left\")\n",
    "cases.show()"
   ]
  },
  {
   "cell_type": "code",
   "execution_count": 27,
   "id": "0a41b1c8",
   "metadata": {},
   "outputs": [
    {
     "name": "stdout",
     "output_type": "stream",
     "text": [
      "+--------+---------------+-------+---------+-----+---------+----------+-----------------------+------------------+----------------+-------------+------------------------+-------------------+------------------+-------------+\n",
      "|province|           city|case_id|confirmed| code| latitude| longitude|elementary_school_count|kindergarten_count|university_count|academy_ratio|elderly_population_ratio|elderly_alone_ratio|nursing_home_count|New confirmed|\n",
      "+--------+---------------+-------+---------+-----+---------+----------+-----------------------+------------------+----------------+-------------+------------------------+-------------------+------------------+-------------+\n",
      "|   Seoul|     Yongsan-gu|1000001|      139|10210|37.532768|126.990021|                     15|                13|               1|         0.68|                   16.87|                6.5|               435|          339|\n",
      "|   Seoul|      Gwanak-gu|1000002|      119|10050| 37.47829|126.951502|                     22|                33|               1|         0.89|                   15.12|                4.9|               909|          319|\n",
      "|   Seoul|        Guro-gu|1000003|       95|10070|37.495632| 126.88765|                     26|                34|               3|          1.0|                   16.21|                5.7|               741|          295|\n",
      "|   Seoul|   Yangcheon-gu|1000004|       43|10190|37.517189|126.866618|                     30|                43|               0|         2.26|                   13.55|                5.5|               816|          243|\n",
      "|   Seoul|      Dobong-gu|1000005|       43|10100|37.668952|127.047082|                     23|                26|               1|         0.95|                   17.89|                7.2|               485|          243|\n",
      "|   Seoul|        Guro-gu|1000006|       41|10070|37.495632| 126.88765|                     26|                34|               3|          1.0|                   16.21|                5.7|               741|          241|\n",
      "|   Seoul|from other city|1000007|       36| null|     null|      null|                   null|              null|            null|         null|                    null|               null|              null|          236|\n",
      "|   Seoul|  Dongdaemun-gu|1000008|       17|10110|37.574552|127.039721|                     21|                31|               4|         1.06|                   17.26|                6.7|               832|          217|\n",
      "|   Seoul|from other city|1000009|       25| null|     null|      null|                   null|              null|            null|         null|                    null|               null|              null|          225|\n",
      "|   Seoul|      Gwanak-gu|1000010|       30|10050| 37.47829|126.951502|                     22|                33|               1|         0.89|                   15.12|                4.9|               909|          230|\n",
      "|   Seoul|   Eunpyeong-gu|1000011|       14|10220|37.603481|126.929173|                     31|                44|               1|         1.09|                    17.0|                6.5|               874|          214|\n",
      "|   Seoul|   Seongdong-gu|1000012|       13|10160|37.563277|127.036647|                     21|                30|               2|         0.97|                   14.76|                5.3|               593|          213|\n",
      "|   Seoul|      Jongno-gu|1000013|       10|10230|37.572999|126.979189|                     13|                17|               3|         1.71|                   18.27|                6.8|               668|          210|\n",
      "|   Seoul|     Gangnam-gu|1000014|        7|10010|37.518421|127.047222|                     33|                38|               0|         4.18|                   13.17|                4.3|              3088|          207|\n",
      "|   Seoul|        Jung-gu|1000015|        7|10240|37.563988| 126.99753|                     12|                14|               2|         0.94|                   18.42|                7.4|               728|          207|\n",
      "|   Seoul|   Seodaemun-gu|1000016|        5|10140|37.579428|126.936771|                     19|                25|               6|         1.12|                   16.77|                6.2|               587|          205|\n",
      "|   Seoul|      Jongno-gu|1000017|        7|10230|37.572999|126.979189|                     13|                17|               3|         1.71|                   18.27|                6.8|               668|          207|\n",
      "|   Seoul|     Gangnam-gu|1000018|        6|10010|37.518421|127.047222|                     33|                38|               0|         4.18|                   13.17|                4.3|              3088|          206|\n",
      "|   Seoul|from other city|1000019|        1| null|     null|      null|                   null|              null|            null|         null|                    null|               null|              null|          201|\n",
      "|   Seoul|   Geumcheon-gu|1000020|        6|10080|37.456852|126.895229|                     18|                19|               0|         0.96|                   16.15|                6.7|               475|          206|\n",
      "+--------+---------------+-------+---------+-----+---------+----------+-----------------------+------------------+----------------+-------------+------------------------+-------------------+------------------+-------------+\n",
      "only showing top 20 rows\n",
      "\n"
     ]
    }
   ],
   "source": [
    "from pyspark.sql import functions as F\n",
    "cases=cases.withColumn(\"New confirmed\", F.col('confirmed')+200)\n",
    "cases.show()"
   ]
  },
  {
   "cell_type": "code",
   "execution_count": 36,
   "id": "e06102e7",
   "metadata": {},
   "outputs": [
    {
     "name": "stdout",
     "output_type": "stream",
     "text": [
      "+--------+---------------+-------+---------+-----+---------+----------+-----------------------+------------------+----------------+-------------+------------------------+-------------------+------------------+-------------+-------+----+\n",
      "|province|           city|case_id|confirmed| code| latitude| longitude|elementary_school_count|kindergarten_count|university_count|academy_ratio|elderly_population_ratio|elderly_alone_ratio|nursing_home_count|New confirmed|HighLow|test|\n",
      "+--------+---------------+-------+---------+-----+---------+----------+-----------------------+------------------+----------------+-------------+------------------------+-------------------+------------------+-------------+-------+----+\n",
      "|   Seoul|     Yongsan-gu|1000001|      139|10210|37.532768|126.990021|                     15|                13|               1|         0.68|                   16.87|                6.5|               435|          339|   High|High|\n",
      "|   Seoul|      Gwanak-gu|1000002|      119|10050| 37.47829|126.951502|                     22|                33|               1|         0.89|                   15.12|                4.9|               909|          319|   High|High|\n",
      "|   Seoul|        Guro-gu|1000003|       95|10070|37.495632| 126.88765|                     26|                34|               3|          1.0|                   16.21|                5.7|               741|          295|   High|High|\n",
      "|   Seoul|   Yangcheon-gu|1000004|       43|10190|37.517189|126.866618|                     30|                43|               0|         2.26|                   13.55|                5.5|               816|          243|    Low| Low|\n",
      "|   Seoul|      Dobong-gu|1000005|       43|10100|37.668952|127.047082|                     23|                26|               1|         0.95|                   17.89|                7.2|               485|          243|    Low| Low|\n",
      "|   Seoul|        Guro-gu|1000006|       41|10070|37.495632| 126.88765|                     26|                34|               3|          1.0|                   16.21|                5.7|               741|          241|    Low| Low|\n",
      "|   Seoul|from other city|1000007|       36| null|     null|      null|                   null|              null|            null|         null|                    null|               null|              null|          236|    Low| Low|\n",
      "|   Seoul|  Dongdaemun-gu|1000008|       17|10110|37.574552|127.039721|                     21|                31|               4|         1.06|                   17.26|                6.7|               832|          217|    Low| Low|\n",
      "|   Seoul|from other city|1000009|       25| null|     null|      null|                   null|              null|            null|         null|                    null|               null|              null|          225|    Low| Low|\n",
      "|   Seoul|      Gwanak-gu|1000010|       30|10050| 37.47829|126.951502|                     22|                33|               1|         0.89|                   15.12|                4.9|               909|          230|    Low| Low|\n",
      "|   Seoul|   Eunpyeong-gu|1000011|       14|10220|37.603481|126.929173|                     31|                44|               1|         1.09|                    17.0|                6.5|               874|          214|    Low| Low|\n",
      "|   Seoul|   Seongdong-gu|1000012|       13|10160|37.563277|127.036647|                     21|                30|               2|         0.97|                   14.76|                5.3|               593|          213|    Low| Low|\n",
      "|   Seoul|      Jongno-gu|1000013|       10|10230|37.572999|126.979189|                     13|                17|               3|         1.71|                   18.27|                6.8|               668|          210|    Low| Low|\n",
      "|   Seoul|     Gangnam-gu|1000014|        7|10010|37.518421|127.047222|                     33|                38|               0|         4.18|                   13.17|                4.3|              3088|          207|    Low| Low|\n",
      "|   Seoul|        Jung-gu|1000015|        7|10240|37.563988| 126.99753|                     12|                14|               2|         0.94|                   18.42|                7.4|               728|          207|    Low| Low|\n",
      "|   Seoul|   Seodaemun-gu|1000016|        5|10140|37.579428|126.936771|                     19|                25|               6|         1.12|                   16.77|                6.2|               587|          205|    Low| Low|\n",
      "|   Seoul|      Jongno-gu|1000017|        7|10230|37.572999|126.979189|                     13|                17|               3|         1.71|                   18.27|                6.8|               668|          207|    Low| Low|\n",
      "|   Seoul|     Gangnam-gu|1000018|        6|10010|37.518421|127.047222|                     33|                38|               0|         4.18|                   13.17|                4.3|              3088|          206|    Low| Low|\n",
      "|   Seoul|from other city|1000019|        1| null|     null|      null|                   null|              null|            null|         null|                    null|               null|              null|          201|    Low| Low|\n",
      "|   Seoul|   Geumcheon-gu|1000020|        6|10080|37.456852|126.895229|                     18|                19|               0|         0.96|                   16.15|                6.7|               475|          206|    Low| Low|\n",
      "+--------+---------------+-------+---------+-----+---------+----------+-----------------------+------------------+----------------+-------------+------------------------+-------------------+------------------+-------------+-------+----+\n",
      "only showing top 20 rows\n",
      "\n"
     ]
    }
   ],
   "source": [
    "def convert(confirm):\n",
    "   \n",
    "    if confirm > 50:\n",
    "        return \"High\"\n",
    "    else:\n",
    "        return \"Low\"\n",
    "HighLow_f=F.udf(convert, StringType())\n",
    "cases=cases.withColumn('test', HighLow_f('confirmed'))                                            \n",
    "cases.show()"
   ]
  },
  {
   "cell_type": "code",
   "execution_count": 32,
   "id": "20d35abb",
   "metadata": {},
   "outputs": [
    {
     "name": "stdout",
     "output_type": "stream",
     "text": [
      "root\n",
      " |-- province: string (nullable = true)\n",
      " |-- city: string (nullable = true)\n",
      " |-- case_id: integer (nullable = true)\n",
      " |-- confirmed: integer (nullable = true)\n",
      " |-- code: integer (nullable = true)\n",
      " |-- latitude: double (nullable = true)\n",
      " |-- longitude: double (nullable = true)\n",
      " |-- elementary_school_count: integer (nullable = true)\n",
      " |-- kindergarten_count: integer (nullable = true)\n",
      " |-- university_count: integer (nullable = true)\n",
      " |-- academy_ratio: double (nullable = true)\n",
      " |-- elderly_population_ratio: double (nullable = true)\n",
      " |-- elderly_alone_ratio: double (nullable = true)\n",
      " |-- nursing_home_count: integer (nullable = true)\n",
      " |-- New confirmed: integer (nullable = true)\n",
      " |-- HighLow: string (nullable = true)\n",
      "\n"
     ]
    }
   ],
   "source": [
    "cases.printSchema()"
   ]
  },
  {
   "cell_type": "code",
   "execution_count": null,
   "id": "847dd404",
   "metadata": {},
   "outputs": [],
   "source": []
  }
 ],
 "metadata": {
  "kernelspec": {
   "display_name": "Python 3 (ipykernel)",
   "language": "python",
   "name": "python3"
  },
  "language_info": {
   "codemirror_mode": {
    "name": "ipython",
    "version": 3
   },
   "file_extension": ".py",
   "mimetype": "text/x-python",
   "name": "python",
   "nbconvert_exporter": "python",
   "pygments_lexer": "ipython3",
   "version": "3.9.7"
  }
 },
 "nbformat": 4,
 "nbformat_minor": 5
}
