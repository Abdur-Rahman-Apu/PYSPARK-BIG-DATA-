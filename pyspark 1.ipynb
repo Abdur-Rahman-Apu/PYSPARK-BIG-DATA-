{
 "cells": [
  {
   "cell_type": "markdown",
   "id": "ae2c1cdf",
   "metadata": {},
   "source": [
    " ### In this file, following things will be covered\n",
    " <ul> \n",
    "    <li>Read a Csv file</li>\n",
    "    <li>Check data types</li>\n",
    "    <li>Head and Tail Function</li>\n",
    "    \n",
    " </ul>\n",
    "    "
   ]
  },
  {
   "cell_type": "code",
   "execution_count": 1,
   "id": "1ab53b96",
   "metadata": {},
   "outputs": [],
   "source": [
    "import pyspark"
   ]
  },
  {
   "cell_type": "markdown",
   "id": "b7dae5e4",
   "metadata": {},
   "source": [
    "### Create a session"
   ]
  },
  {
   "cell_type": "code",
   "execution_count": 8,
   "id": "c73e31ab",
   "metadata": {},
   "outputs": [
    {
     "data": {
      "text/html": [
       "\n",
       "            <div>\n",
       "                <p><b>SparkSession - in-memory</b></p>\n",
       "                \n",
       "        <div>\n",
       "            <p><b>SparkContext</b></p>\n",
       "\n",
       "            <p><a href=\"http://DESKTOP-9P30N8Q:4041\">Spark UI</a></p>\n",
       "\n",
       "            <dl>\n",
       "              <dt>Version</dt>\n",
       "                <dd><code>v3.1.2</code></dd>\n",
       "              <dt>Master</dt>\n",
       "                <dd><code>local[*]</code></dd>\n",
       "              <dt>AppName</dt>\n",
       "                <dd><code>Practice</code></dd>\n",
       "            </dl>\n",
       "        </div>\n",
       "        \n",
       "            </div>\n",
       "        "
      ],
      "text/plain": [
       "<pyspark.sql.session.SparkSession at 0x220237ad5b0>"
      ]
     },
     "execution_count": 8,
     "metadata": {},
     "output_type": "execute_result"
    }
   ],
   "source": [
    "from pyspark.sql import SparkSession\n",
    "spark=SparkSession.builder.appName('Practice').getOrCreate()\n",
    "spark"
   ]
  },
  {
   "cell_type": "markdown",
   "id": "51893c43",
   "metadata": {},
   "source": [
    "# Read a csv file using pyspark"
   ]
  },
  {
   "cell_type": "code",
   "execution_count": 3,
   "id": "f028f6bf",
   "metadata": {},
   "outputs": [
    {
     "name": "stdout",
     "output_type": "stream",
     "text": [
      "+---------+---+\n",
      "|      _c0|_c1|\n",
      "+---------+---+\n",
      "|     Name|Age|\n",
      "|    Krish| 31|\n",
      "|Subhanshu| 30|\n",
      "|    Sunny| 29|\n",
      "|     Paul| 24|\n",
      "|   Harsha| 21|\n",
      "|  Shubham| 23|\n",
      "+---------+---+\n",
      "\n"
     ]
    }
   ],
   "source": [
    "df_pyspark=spark.read.csv(\"test1.csv\")\n",
    "df_pyspark.show()"
   ]
  },
  {
   "cell_type": "markdown",
   "id": "a051328a",
   "metadata": {},
   "source": [
    "<b style=\"color: #3498db; font-size: 18px;\"> First row will be created as the header of the dataframe, if we use header=True </b>"
   ]
  },
  {
   "cell_type": "code",
   "execution_count": 4,
   "id": "94978d4d",
   "metadata": {},
   "outputs": [
    {
     "name": "stdout",
     "output_type": "stream",
     "text": [
      "+---------+---+\n",
      "|     Name|Age|\n",
      "+---------+---+\n",
      "|    Krish| 31|\n",
      "|Subhanshu| 30|\n",
      "|    Sunny| 29|\n",
      "|     Paul| 24|\n",
      "|   Harsha| 21|\n",
      "|  Shubham| 23|\n",
      "+---------+---+\n",
      "\n"
     ]
    }
   ],
   "source": [
    "df_pyspark=spark.read.csv(\"test1.csv\",header=True)\n",
    "df_pyspark.show()"
   ]
  },
  {
   "cell_type": "markdown",
   "id": "87f43407",
   "metadata": {},
   "source": [
    "<b style=\"color: #3498db; font-size: 18px;\"> Check datatypes using printSchema function </b>"
   ]
  },
  {
   "cell_type": "code",
   "execution_count": 5,
   "id": "70cdec76",
   "metadata": {},
   "outputs": [
    {
     "name": "stdout",
     "output_type": "stream",
     "text": [
      "root\n",
      " |-- Name: string (nullable = true)\n",
      " |-- Age: string (nullable = true)\n",
      "\n"
     ]
    }
   ],
   "source": [
    "df_pyspark.printSchema()"
   ]
  },
  {
   "cell_type": "markdown",
   "id": "a6a4c30e",
   "metadata": {},
   "source": [
    "<b style=\"color: #e67e22; font-size: 18px;\"> Here our age column data is number but here shows that it is string. To fix it we have to use inferSchema=True to maintain our data type</b>"
   ]
  },
  {
   "cell_type": "code",
   "execution_count": 6,
   "id": "fa9bdc54",
   "metadata": {},
   "outputs": [
    {
     "name": "stdout",
     "output_type": "stream",
     "text": [
      "+---------+---+\n",
      "|     Name|Age|\n",
      "+---------+---+\n",
      "|    Krish| 31|\n",
      "|Subhanshu| 30|\n",
      "|    Sunny| 29|\n",
      "|     Paul| 24|\n",
      "|   Harsha| 21|\n",
      "|  Shubham| 23|\n",
      "+---------+---+\n",
      "\n"
     ]
    }
   ],
   "source": [
    "df_pyspark=spark.read.csv(\"test1.csv\",header=True,inferSchema=True)\n",
    "df_pyspark.show()"
   ]
  },
  {
   "cell_type": "code",
   "execution_count": 7,
   "id": "ecd170dd",
   "metadata": {},
   "outputs": [
    {
     "name": "stdout",
     "output_type": "stream",
     "text": [
      "root\n",
      " |-- Name: string (nullable = true)\n",
      " |-- Age: integer (nullable = true)\n",
      "\n"
     ]
    }
   ],
   "source": [
    "df_pyspark.printSchema()"
   ]
  },
  {
   "cell_type": "markdown",
   "id": "e2f2f224",
   "metadata": {},
   "source": [
    "<b style=\"color: #3498db; font-size: 18px;\">Check type of the dataframe </b>"
   ]
  },
  {
   "cell_type": "code",
   "execution_count": 9,
   "id": "69abb556",
   "metadata": {},
   "outputs": [
    {
     "data": {
      "text/plain": [
       "pyspark.sql.dataframe.DataFrame"
      ]
     },
     "execution_count": 9,
     "metadata": {},
     "output_type": "execute_result"
    }
   ],
   "source": [
    "type(df_pyspark)"
   ]
  },
  {
   "cell_type": "markdown",
   "id": "e600203e",
   "metadata": {},
   "source": [
    "<b style=\"color: #3498db; font-size: 18px;\"> Check dataTypes of the columns</b>"
   ]
  },
  {
   "cell_type": "code",
   "execution_count": 10,
   "id": "83b25bc1",
   "metadata": {},
   "outputs": [
    {
     "data": {
      "text/plain": [
       "[('Name', 'string'), ('Age', 'int')]"
      ]
     },
     "execution_count": 10,
     "metadata": {},
     "output_type": "execute_result"
    }
   ],
   "source": [
    "df_pyspark.dtypes"
   ]
  },
  {
   "cell_type": "markdown",
   "id": "d37955c4",
   "metadata": {},
   "source": [
    "<b style=\"color: #3498db; font-size: 18px;\">Head and Tail function in pyspark</b>"
   ]
  },
  {
   "cell_type": "code",
   "execution_count": 15,
   "id": "8821eb40",
   "metadata": {},
   "outputs": [
    {
     "name": "stdout",
     "output_type": "stream",
     "text": [
      "+---------+---+\n",
      "|     Name|Age|\n",
      "+---------+---+\n",
      "|    Krish| 31|\n",
      "|Subhanshu| 30|\n",
      "|    Sunny| 29|\n",
      "|     Paul| 24|\n",
      "|   Harsha| 21|\n",
      "|  Shubham| 23|\n",
      "+---------+---+\n",
      "\n"
     ]
    }
   ],
   "source": [
    "df_pyspark.show()"
   ]
  },
  {
   "cell_type": "code",
   "execution_count": 12,
   "id": "436979b5",
   "metadata": {},
   "outputs": [
    {
     "data": {
      "text/plain": [
       "[Row(Name='Krish', Age=31),\n",
       " Row(Name='Subhanshu', Age=30),\n",
       " Row(Name='Sunny', Age=29),\n",
       " Row(Name='Paul', Age=24),\n",
       " Row(Name='Harsha', Age=21)]"
      ]
     },
     "execution_count": 12,
     "metadata": {},
     "output_type": "execute_result"
    }
   ],
   "source": [
    "df_pyspark.head(5)"
   ]
  },
  {
   "cell_type": "code",
   "execution_count": 19,
   "id": "aedf2f90",
   "metadata": {},
   "outputs": [
    {
     "data": {
      "text/plain": [
       "[Row(Name='Shubham', Age=23)]"
      ]
     },
     "execution_count": 19,
     "metadata": {},
     "output_type": "execute_result"
    }
   ],
   "source": [
    "df_pyspark.tail(1)"
   ]
  },
  {
   "cell_type": "code",
   "execution_count": 20,
   "id": "a2efe839",
   "metadata": {},
   "outputs": [
    {
     "data": {
      "text/plain": [
       "[Row(Name='Harsha', Age=21), Row(Name='Shubham', Age=23)]"
      ]
     },
     "execution_count": 20,
     "metadata": {},
     "output_type": "execute_result"
    }
   ],
   "source": [
    "df_pyspark.tail(2)"
   ]
  },
  {
   "cell_type": "markdown",
   "id": "2fa1751a",
   "metadata": {},
   "source": [
    "<b style=\"color: #3498db; font-size: 18px;\"> Describe function in pyspark </b>"
   ]
  },
  {
   "cell_type": "code",
   "execution_count": 24,
   "id": "876f09bf",
   "metadata": {},
   "outputs": [
    {
     "data": {
      "text/plain": [
       "DataFrame[summary: string, Name: string, Age: string]"
      ]
     },
     "execution_count": 24,
     "metadata": {},
     "output_type": "execute_result"
    }
   ],
   "source": [
    "df_pyspark.describe()"
   ]
  },
  {
   "cell_type": "code",
   "execution_count": 25,
   "id": "13633f67",
   "metadata": {},
   "outputs": [
    {
     "name": "stdout",
     "output_type": "stream",
     "text": [
      "+-------+------+------------------+\n",
      "|summary|  Name|               Age|\n",
      "+-------+------+------------------+\n",
      "|  count|     6|                 6|\n",
      "|   mean|  null|26.333333333333332|\n",
      "| stddev|  null| 4.179314138308661|\n",
      "|    min|Harsha|                21|\n",
      "|    max| Sunny|                31|\n",
      "+-------+------+------------------+\n",
      "\n"
     ]
    }
   ],
   "source": [
    "df_pyspark.describe().show()"
   ]
  },
  {
   "cell_type": "code",
   "execution_count": null,
   "id": "c5e5c27b",
   "metadata": {},
   "outputs": [],
   "source": []
  }
 ],
 "metadata": {
  "kernelspec": {
   "display_name": "Python 3 (ipykernel)",
   "language": "python",
   "name": "python3"
  },
  "language_info": {
   "codemirror_mode": {
    "name": "ipython",
    "version": 3
   },
   "file_extension": ".py",
   "mimetype": "text/x-python",
   "name": "python",
   "nbconvert_exporter": "python",
   "pygments_lexer": "ipython3",
   "version": "3.9.7"
  }
 },
 "nbformat": 4,
 "nbformat_minor": 5
}
