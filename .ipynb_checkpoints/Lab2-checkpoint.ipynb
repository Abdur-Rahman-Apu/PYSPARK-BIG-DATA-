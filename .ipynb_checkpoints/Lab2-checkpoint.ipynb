{
 "cells": [
  {
   "cell_type": "markdown",
   "id": "581aebf9",
   "metadata": {},
   "source": [
    "### Basic python"
   ]
  },
  {
   "cell_type": "code",
   "execution_count": 1,
   "id": "25df28fe",
   "metadata": {},
   "outputs": [
    {
     "name": "stdout",
     "output_type": "stream",
     "text": [
      "Welcome to python\n"
     ]
    }
   ],
   "source": [
    "print(\"Welcome to python\")"
   ]
  },
  {
   "cell_type": "code",
   "execution_count": 2,
   "id": "228d3e21",
   "metadata": {},
   "outputs": [
    {
     "name": "stdout",
     "output_type": "stream",
     "text": [
      "10\n"
     ]
    }
   ],
   "source": [
    "a=10\n",
    "if a==10:\n",
    "    print(a)\n",
    "elif a==1:\n",
    "    print(a)\n",
    "else:\n",
    "    print(\"OO hoo\")"
   ]
  },
  {
   "cell_type": "code",
   "execution_count": 3,
   "id": "94b39f4b",
   "metadata": {},
   "outputs": [
    {
     "name": "stdout",
     "output_type": "stream",
     "text": [
      "4\n"
     ]
    }
   ],
   "source": [
    "for i in range(10):\n",
    "    if i==4:\n",
    "        print(i)"
   ]
  },
  {
   "cell_type": "code",
   "execution_count": 4,
   "id": "1a5fc212",
   "metadata": {},
   "outputs": [],
   "source": [
    "arr=['Big','Data','And','Iot']"
   ]
  },
  {
   "cell_type": "code",
   "execution_count": 5,
   "id": "3f9bb5d5",
   "metadata": {},
   "outputs": [
    {
     "data": {
      "text/plain": [
       "['Big', 'Data', 'And', 'Iot']"
      ]
     },
     "execution_count": 5,
     "metadata": {},
     "output_type": "execute_result"
    }
   ],
   "source": [
    "arr"
   ]
  },
  {
   "cell_type": "code",
   "execution_count": 6,
   "id": "b6fdceeb",
   "metadata": {},
   "outputs": [
    {
     "name": "stdout",
     "output_type": "stream",
     "text": [
      "Big\n",
      "Data\n",
      "And\n",
      "Iot\n"
     ]
    }
   ],
   "source": [
    "for i in arr:\n",
    "    print(i)"
   ]
  },
  {
   "cell_type": "code",
   "execution_count": 7,
   "id": "75efac16",
   "metadata": {},
   "outputs": [
    {
     "name": "stdout",
     "output_type": "stream",
     "text": [
      "('Big', 'Data', 'And', 'Iot')\n"
     ]
    }
   ],
   "source": [
    "tup=tuple(arr)\n",
    "print(tup)"
   ]
  },
  {
   "cell_type": "code",
   "execution_count": 8,
   "id": "b29db6b2",
   "metadata": {},
   "outputs": [],
   "source": [
    "dic={\n",
    "    'Big data': 112,\n",
    "    'IOT':113\n",
    "}"
   ]
  },
  {
   "cell_type": "code",
   "execution_count": 9,
   "id": "bb29eab7",
   "metadata": {},
   "outputs": [
    {
     "name": "stdout",
     "output_type": "stream",
     "text": [
      "{'Big data': 112, 'IOT': 113}\n"
     ]
    }
   ],
   "source": [
    "print(dic)"
   ]
  },
  {
   "cell_type": "code",
   "execution_count": 10,
   "id": "f18cce44",
   "metadata": {},
   "outputs": [],
   "source": [
    "arr.sort()"
   ]
  },
  {
   "cell_type": "code",
   "execution_count": 11,
   "id": "f9e3ddcc",
   "metadata": {},
   "outputs": [
    {
     "name": "stdout",
     "output_type": "stream",
     "text": [
      "['And', 'Big', 'Data', 'Iot']\n"
     ]
    }
   ],
   "source": [
    "print(arr)"
   ]
  },
  {
   "cell_type": "code",
   "execution_count": 13,
   "id": "b73b3daf",
   "metadata": {},
   "outputs": [
    {
     "data": {
      "text/plain": [
       "7"
      ]
     },
     "execution_count": 13,
     "metadata": {},
     "output_type": "execute_result"
    }
   ],
   "source": [
    "#lambda function\n",
    "# add two number\n",
    "\n",
    "add=lambda x,y:x+y\n",
    "add(3,4)"
   ]
  },
  {
   "cell_type": "code",
   "execution_count": 14,
   "id": "9873cc92",
   "metadata": {},
   "outputs": [
    {
     "data": {
      "text/plain": [
       "'Abdur Rahman Apu'"
      ]
     },
     "execution_count": 14,
     "metadata": {},
     "output_type": "execute_result"
    }
   ],
   "source": [
    "name=\"Abdur Rahman Apu\"\n",
    "\n",
    "sp=lambda name: name.split(' ')\n",
    "name"
   ]
  },
  {
   "cell_type": "code",
   "execution_count": null,
   "id": "a59416a1",
   "metadata": {},
   "outputs": [],
   "source": []
  }
 ],
 "metadata": {
  "kernelspec": {
   "display_name": "Python 3 (ipykernel)",
   "language": "python",
   "name": "python3"
  },
  "language_info": {
   "codemirror_mode": {
    "name": "ipython",
    "version": 3
   },
   "file_extension": ".py",
   "mimetype": "text/x-python",
   "name": "python",
   "nbconvert_exporter": "python",
   "pygments_lexer": "ipython3",
   "version": "3.9.7"
  }
 },
 "nbformat": 4,
 "nbformat_minor": 5
}
